{
 "cells": [
  {
   "cell_type": "code",
   "execution_count": 2,
   "id": "287b3ae1-a45d-4f31-8d67-e0582b3367e0",
   "metadata": {},
   "outputs": [],
   "source": [
    "import numpy as np"
   ]
  },
  {
   "cell_type": "code",
   "execution_count": null,
   "id": "f8bf30aa-5d6d-4b11-9ab1-e979c9463392",
   "metadata": {},
   "outputs": [],
   "source": [
    "# Create a 1-D NumPy array of all even integers from 2 to 20 (inclusive)."
   ]
  },
  {
   "cell_type": "code",
   "execution_count": 3,
   "id": "945e6c94-9555-408e-ba0f-706555a10375",
   "metadata": {},
   "outputs": [
    {
     "data": {
      "text/plain": [
       "array([ 2,  4,  6,  8, 10, 12, 14, 16, 18, 20])"
      ]
     },
     "execution_count": 3,
     "metadata": {},
     "output_type": "execute_result"
    }
   ],
   "source": [
    "np.arange(2,21,2)"
   ]
  },
  {
   "cell_type": "code",
   "execution_count": 4,
   "id": "66ba6606-0a78-40c6-ab81-08d154764c24",
   "metadata": {},
   "outputs": [
    {
     "data": {
      "text/plain": [
       "array([ 2,  4,  6,  8, 10, 12, 14, 16, 18, 20])"
      ]
     },
     "execution_count": 4,
     "metadata": {},
     "output_type": "execute_result"
    }
   ],
   "source": [
    "np.linspace(2, 20, 10, dtype=np.int64)"
   ]
  },
  {
   "cell_type": "code",
   "execution_count": null,
   "id": "a44b366e-11a2-4f65-a745-fa783d85fa4a",
   "metadata": {},
   "outputs": [],
   "source": [
    "# Create a 2×3 NumPy array filled with zeros, then change the middle element (row=0, col=1) to 7. Print the updated array."
   ]
  },
  {
   "cell_type": "code",
   "execution_count": 6,
   "id": "f4cc6587-7d35-4e23-b800-ffa7d3dee0fd",
   "metadata": {},
   "outputs": [],
   "source": [
    "zero = np.zeros((2,3), dtype=int)\n",
    "zero[0,1] = 7"
   ]
  },
  {
   "cell_type": "code",
   "execution_count": 7,
   "id": "eac54803-99cd-4a91-90ad-9f78f62fb85f",
   "metadata": {},
   "outputs": [
    {
     "data": {
      "text/plain": [
       "array([[0, 7, 0],\n",
       "       [0, 0, 0]])"
      ]
     },
     "execution_count": 7,
     "metadata": {},
     "output_type": "execute_result"
    }
   ],
   "source": [
    "zero"
   ]
  },
  {
   "cell_type": "code",
   "execution_count": null,
   "id": "ecf9a104-70db-40ca-9889-708482ad1006",
   "metadata": {},
   "outputs": [],
   "source": [
    "# Take the 3×4 matrix "
   ]
  },
  {
   "cell_type": "code",
   "execution_count": 8,
   "id": "57e1e91f-6556-437e-987e-ddf39a5deb0d",
   "metadata": {},
   "outputs": [
    {
     "data": {
      "text/plain": [
       "array([[ 1,  2,  3,  4],\n",
       "       [ 5,  6,  7,  8],\n",
       "       [ 9, 10, 11, 12]])"
      ]
     },
     "execution_count": 8,
     "metadata": {},
     "output_type": "execute_result"
    }
   ],
   "source": [
    "arr = np.arange(1, 13).reshape(3, 4)\n",
    "arr"
   ]
  },
  {
   "cell_type": "code",
   "execution_count": 9,
   "id": "06121c98-37fa-4841-b83f-fde6fadeb5b4",
   "metadata": {},
   "outputs": [
    {
     "data": {
      "text/plain": [
       "array([5, 6, 7, 8])"
      ]
     },
     "execution_count": 9,
     "metadata": {},
     "output_type": "execute_result"
    }
   ],
   "source": [
    "arr[1]"
   ]
  },
  {
   "cell_type": "code",
   "execution_count": null,
   "id": "32a8b072-0e62-49a6-9e73-740a5131d0d3",
   "metadata": {},
   "outputs": [],
   "source": [
    "# From the same 3×4 array, extract the third column (all rows, column index 2). Print it as a 1-D array."
   ]
  },
  {
   "cell_type": "code",
   "execution_count": 10,
   "id": "43537cba-635f-4242-a8f7-0bb651145995",
   "metadata": {},
   "outputs": [
    {
     "data": {
      "text/plain": [
       "array([ 3,  7, 11])"
      ]
     },
     "execution_count": 10,
     "metadata": {},
     "output_type": "execute_result"
    }
   ],
   "source": [
    "arr[:, 2]"
   ]
  },
  {
   "cell_type": "code",
   "execution_count": null,
   "id": "6cadbddc-d988-4cc2-944c-ff902b271f3f",
   "metadata": {},
   "outputs": [],
   "source": [
    "# Take the same 3×4 array. \n",
    "# Extract the submatrix consisting of the last two rows and the last two columns. Print the result."
   ]
  },
  {
   "cell_type": "code",
   "execution_count": 11,
   "id": "9b73fdb1-2990-4c6e-b384-f900d9357628",
   "metadata": {},
   "outputs": [
    {
     "data": {
      "text/plain": [
       "array([[ 7,  8],\n",
       "       [11, 12]])"
      ]
     },
     "execution_count": 11,
     "metadata": {},
     "output_type": "execute_result"
    }
   ],
   "source": [
    "arr[-2:, -2:]"
   ]
  },
  {
   "cell_type": "code",
   "execution_count": null,
   "id": "3efa0244-5c43-4eb1-9b35-abbb419660c0",
   "metadata": {},
   "outputs": [],
   "source": [
    "# Generate a 4×4 identity matrix (1’s on the diagonal, 0’s elsewhere). \n",
    "# Then multiply every element by 5. Print the result."
   ]
  },
  {
   "cell_type": "code",
   "execution_count": 12,
   "id": "e94686f0-8967-481a-9c37-6f13754fdceb",
   "metadata": {},
   "outputs": [
    {
     "data": {
      "text/plain": [
       "array([[1, 0, 0, 0],\n",
       "       [0, 1, 0, 0],\n",
       "       [0, 0, 1, 0],\n",
       "       [0, 0, 0, 1]])"
      ]
     },
     "execution_count": 12,
     "metadata": {},
     "output_type": "execute_result"
    }
   ],
   "source": [
    "identity = np.eye(4, dtype=int)\n",
    "identity"
   ]
  },
  {
   "cell_type": "code",
   "execution_count": 13,
   "id": "7d56552c-2c34-4845-a4da-4e94c6f45705",
   "metadata": {},
   "outputs": [
    {
     "data": {
      "text/plain": [
       "array([[5, 0, 0, 0],\n",
       "       [0, 5, 0, 0],\n",
       "       [0, 0, 5, 0],\n",
       "       [0, 0, 0, 5]])"
      ]
     },
     "execution_count": 13,
     "metadata": {},
     "output_type": "execute_result"
    }
   ],
   "source": [
    "identity*5"
   ]
  },
  {
   "cell_type": "code",
   "execution_count": 14,
   "id": "cc5b9cd7-63cc-45e7-8415-f5ff38a269b1",
   "metadata": {},
   "outputs": [
    {
     "data": {
      "text/plain": [
       "array([[1, 0, 0, 0],\n",
       "       [0, 1, 0, 0],\n",
       "       [0, 0, 1, 0],\n",
       "       [0, 0, 0, 1]])"
      ]
     },
     "execution_count": 14,
     "metadata": {},
     "output_type": "execute_result"
    }
   ],
   "source": [
    "identity"
   ]
  },
  {
   "cell_type": "code",
   "execution_count": null,
   "id": "37820768-8dc6-40ff-ad8b-5794ad6900a6",
   "metadata": {},
   "outputs": [],
   "source": [
    "# Create a NumPy array of shape (3,3) filled with values from 1 to 9. \n",
    "# Then compute the sum of each column. Print the result as a 1-D array."
   ]
  },
  {
   "cell_type": "code",
   "execution_count": 15,
   "id": "0bcff33d-0355-499f-942b-d7bc177d4aca",
   "metadata": {},
   "outputs": [
    {
     "data": {
      "text/plain": [
       "array([12, 15, 18])"
      ]
     },
     "execution_count": 15,
     "metadata": {},
     "output_type": "execute_result"
    }
   ],
   "source": [
    "arr = np.arange(1,10).reshape(3,3)\n",
    "arr.sum(axis = 0)"
   ]
  },
  {
   "cell_type": "code",
   "execution_count": null,
   "id": "9dd36dcd-d93b-4b21-b685-4df90171bfcb",
   "metadata": {},
   "outputs": [],
   "source": [
    "# Given a 1-D array a = np.array([1, 2, 3, 4, 5]), \n",
    "# use boolean indexing to replace all values greater than 3 with 0`. \n",
    "# Print the modified array."
   ]
  },
  {
   "cell_type": "code",
   "execution_count": 16,
   "id": "b293389d-42a7-4030-a5bc-7ff23d9cdf77",
   "metadata": {},
   "outputs": [
    {
     "data": {
      "text/plain": [
       "array([1, 2, 3, 0, 0])"
      ]
     },
     "execution_count": 16,
     "metadata": {},
     "output_type": "execute_result"
    }
   ],
   "source": [
    "a = np.array([1, 2, 3, 4, 5])\n",
    "mask = a > 3\n",
    "a[ mask ] = 0\n",
    "a"
   ]
  },
  {
   "cell_type": "code",
   "execution_count": null,
   "id": "182f6cfd-5a6d-4904-8aef-6a35ca9b1d11",
   "metadata": {},
   "outputs": [],
   "source": [
    "# Create a 1-D array x = np.array([1.0, 2.0, 3.0]) and a 1-D array y = np.array([10.0, 20.0, 30.0]). \n",
    "# Use broadcasting to compute x + y and x[:, None] * y (outer product). \n",
    "# Print both results and their shapes."
   ]
  },
  {
   "cell_type": "code",
   "execution_count": 17,
   "id": "90d292e1-ecbd-4c98-bd90-58de1025d0c4",
   "metadata": {},
   "outputs": [
    {
     "name": "stdout",
     "output_type": "stream",
     "text": [
      "[11. 22. 33.]\n",
      " Shape is : (3,)\n",
      "[[10. 20. 30.]\n",
      " [20. 40. 60.]\n",
      " [30. 60. 90.]]\n",
      " Shape is : (3, 3)\n"
     ]
    }
   ],
   "source": [
    "x = np.array([1.0, 2.0, 3.0])\n",
    "y = np.array([10.0, 20.0, 30.0])\n",
    "total = x + y\n",
    "result = x[:, None]*y\n",
    "print(f\"{total}\\n Shape is : {total.shape}\")\n",
    "print(f\"{result}\\n Shape is : {result.shape}\")"
   ]
  },
  {
   "cell_type": "code",
   "execution_count": 18,
   "id": "62f95890-bf73-437e-95df-9c6b6fcec584",
   "metadata": {},
   "outputs": [
    {
     "data": {
      "text/plain": [
       "array([[10., 20., 30.],\n",
       "       [20., 40., 60.],\n",
       "       [30., 60., 90.]])"
      ]
     },
     "execution_count": 18,
     "metadata": {},
     "output_type": "execute_result"
    }
   ],
   "source": [
    "np.outer(x,y)"
   ]
  },
  {
   "cell_type": "code",
   "execution_count": 19,
   "id": "656142ff-788c-4797-ab43-9cabcca8c7be",
   "metadata": {},
   "outputs": [
    {
     "data": {
      "text/plain": [
       "array([[10., 20., 30.],\n",
       "       [20., 40., 60.],\n",
       "       [30., 60., 90.]])"
      ]
     },
     "execution_count": 19,
     "metadata": {},
     "output_type": "execute_result"
    }
   ],
   "source": [
    "result"
   ]
  },
  {
   "cell_type": "code",
   "execution_count": null,
   "id": "edd9534f-e5ef-4725-92e7-978fc3c2a968",
   "metadata": {},
   "outputs": [],
   "source": [
    "# Set a random seed for reproducibility, then generate a 2×3 array of standard normal values. \n",
    "# Compute the mean of each column and the overall standard deviation. Print both results."
   ]
  },
  {
   "cell_type": "code",
   "execution_count": 20,
   "id": "a12970a0-86db-44fb-a4a0-a3d4b3d9d5f1",
   "metadata": {},
   "outputs": [
    {
     "name": "stdout",
     "output_type": "stream",
     "text": [
      "Mean of each column : [-0.13930501  0.88061805  0.58144079] \n",
      " Standard deviation : 0.4488118117912318\n"
     ]
    }
   ],
   "source": [
    "np.random.seed(32)\n",
    "matrix = np.random.randn(2, 3)\n",
    "mean = matrix.mean(axis = 0)\n",
    "sd = matrix.std()\n",
    "print(f\"Mean of each column : {mean} \\n Standard deviation : {sd}\")"
   ]
  },
  {
   "cell_type": "code",
   "execution_count": 21,
   "id": "8845abf1-070e-4076-95c6-a148a873a9fc",
   "metadata": {},
   "outputs": [
    {
     "data": {
      "text/plain": [
       "array([[-0.34889445,  0.98370343,  0.58092283],\n",
       "       [ 0.07028444,  0.77753268,  0.58195875]])"
      ]
     },
     "execution_count": 21,
     "metadata": {},
     "output_type": "execute_result"
    }
   ],
   "source": [
    "matrix"
   ]
  },
  {
   "cell_type": "code",
   "execution_count": null,
   "id": "b0d35522-f196-4210-bbb8-1e569f500bc0",
   "metadata": {},
   "outputs": [],
   "source": [
    "# Using np.random.default_rng(123), generate a 1-D array of 10 integers from 0 to 99 (inclusive). \n",
    "# Replace all values less than 50 with their square, and values ≥50 with -1. \n",
    "# Print the final array and its dtype."
   ]
  },
  {
   "cell_type": "code",
   "execution_count": 22,
   "id": "262e4247-2de7-412b-a1ab-24f8de07205d",
   "metadata": {},
   "outputs": [
    {
     "data": {
      "text/plain": [
       "array([-1, -1, -1, -1, -1, 16, 49,  1, -1, -1])"
      ]
     },
     "execution_count": 22,
     "metadata": {},
     "output_type": "execute_result"
    }
   ],
   "source": [
    "import numpy as np\n",
    "rng = np.random.default_rng(0)\n",
    "arr = rng.integers(0, 100, size = 10)\n",
    "arr[arr < 50] = arr[arr < 50] ** 2\n",
    "arr[arr >= 50] = -1\n",
    "arr"
   ]
  },
  {
   "cell_type": "code",
   "execution_count": null,
   "id": "d185d5cc-04bb-426e-9dab-1656ace42172",
   "metadata": {},
   "outputs": [],
   "source": [
    "# Given a 2-D array a with shape (4,5), compute the mean of each row, then subtract the corresponding row mean from each row (mean-centering). \n",
    "# Verify each resulting row has mean≈0 within atol=1e-12. Print the centered array and the verification result.\n",
    "# Targets: broadcasting, keepdims/shape alignment, np.mean(axis=1), np.allclose"
   ]
  },
  {
   "cell_type": "code",
   "execution_count": 23,
   "id": "56fb7041-cbcc-452d-bbc8-7990a1f84f1c",
   "metadata": {},
   "outputs": [
    {
     "name": "stdout",
     "output_type": "stream",
     "text": [
      "[[-2. -1.  0.  1.  2.]\n",
      " [-2. -1.  0.  1.  2.]\n",
      " [-2. -1.  0.  1.  2.]\n",
      " [-2. -1.  0.  1.  2.]]\n",
      "True\n"
     ]
    }
   ],
   "source": [
    "arr = np.arange(1,21).reshape(4,5)\n",
    "mean = arr.mean(axis = 1, keepdims = True)\n",
    "mean_center = arr - mean\n",
    "verify = np.allclose(mean_center.mean(axis=1), 0, atol = 1e-12)\n",
    "print(mean_center)\n",
    "print(verify)"
   ]
  },
  {
   "cell_type": "code",
   "execution_count": null,
   "id": "d759aef0-c689-4742-a8b5-f698af22c83f",
   "metadata": {},
   "outputs": [],
   "source": [
    "# Given a 10,000-length 1-D float array x, compute a rolling mean with window size 5 using only NumPy (no loops, no pandas). \n",
    "# Return an array of length 9,996 containing the valid-centered means. \n",
    "# Print the result’s first 5 values and its shape."
   ]
  },
  {
   "cell_type": "code",
   "execution_count": 24,
   "id": "119bc7f6-cb0f-49a8-a71d-d04c73bfb122",
   "metadata": {},
   "outputs": [
    {
     "name": "stdout",
     "output_type": "stream",
     "text": [
      "[0.48339791 0.4300236  0.38954582 0.34118818 0.37108928]\n",
      "(9996,)\n"
     ]
    }
   ],
   "source": [
    "rng = np.random.default_rng()\n",
    "x = rng.random(10000)\n",
    "w_size = 5\n",
    "stride = np.lib.stride_tricks.sliding_window_view(x, w_size)\n",
    "rolling_mean = stride.mean(axis = 1)\n",
    "print(rolling_mean[:5])\n",
    "print(rolling_mean.shape)"
   ]
  }
 ],
 "metadata": {
  "kernelspec": {
   "display_name": "Python [conda env:.conda-myenv]",
   "language": "python",
   "name": "conda-env-.conda-myenv-py"
  },
  "language_info": {
   "codemirror_mode": {
    "name": "ipython",
    "version": 3
   },
   "file_extension": ".py",
   "mimetype": "text/x-python",
   "name": "python",
   "nbconvert_exporter": "python",
   "pygments_lexer": "ipython3",
   "version": "3.10.18"
  }
 },
 "nbformat": 4,
 "nbformat_minor": 5
}
