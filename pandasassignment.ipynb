{
 "cells": [
  {
   "cell_type": "code",
   "execution_count": 1,
   "id": "1c210871-9934-4cc4-b63e-4aabfba945a7",
   "metadata": {},
   "outputs": [],
   "source": [
    "import pandas as pd\n",
    "import numpy as np"
   ]
  },
  {
   "cell_type": "code",
   "execution_count": 2,
   "id": "265cc899-4535-478c-9839-70bd8a208440",
   "metadata": {},
   "outputs": [
    {
     "data": {
      "text/html": [
       "<div>\n",
       "<style scoped>\n",
       "    .dataframe tbody tr th:only-of-type {\n",
       "        vertical-align: middle;\n",
       "    }\n",
       "\n",
       "    .dataframe tbody tr th {\n",
       "        vertical-align: top;\n",
       "    }\n",
       "\n",
       "    .dataframe thead th {\n",
       "        text-align: right;\n",
       "    }\n",
       "</style>\n",
       "<table border=\"1\" class=\"dataframe\">\n",
       "  <thead>\n",
       "    <tr style=\"text-align: right;\">\n",
       "      <th></th>\n",
       "      <th>Name</th>\n",
       "      <th>Math</th>\n",
       "    </tr>\n",
       "  </thead>\n",
       "  <tbody>\n",
       "    <tr>\n",
       "      <th>0</th>\n",
       "      <td>Alice</td>\n",
       "      <td>85</td>\n",
       "    </tr>\n",
       "    <tr>\n",
       "      <th>1</th>\n",
       "      <td>Bob</td>\n",
       "      <td>92</td>\n",
       "    </tr>\n",
       "    <tr>\n",
       "      <th>2</th>\n",
       "      <td>Charlie</td>\n",
       "      <td>78</td>\n",
       "    </tr>\n",
       "  </tbody>\n",
       "</table>\n",
       "</div>"
      ],
      "text/plain": [
       "      Name  Math\n",
       "0    Alice    85\n",
       "1      Bob    92\n",
       "2  Charlie    78"
      ]
     },
     "execution_count": 2,
     "metadata": {},
     "output_type": "execute_result"
    }
   ],
   "source": [
    "data = {\n",
    "    \"Name\": [\"Alice\", \"Bob\", \"Charlie\", \"David\", \"Eva\"],\n",
    "    \"Math\": [85, 92, 78, 88, 95],\n",
    "    \"Science\": [90, 85, 82, 91, 87]\n",
    "}\n",
    "df = pd.DataFrame(data)\n",
    "df[['Name', 'Math']].head(3)"
   ]
  },
  {
   "cell_type": "code",
   "execution_count": null,
   "id": "0a74d850-833d-41d1-a967-d0bb3c74f974",
   "metadata": {},
   "outputs": [],
   "source": [
    "# You are given a NumPy array of integers. \n",
    "# Convert it into a Pandas Series, then compute the mean and unique values."
   ]
  },
  {
   "cell_type": "code",
   "execution_count": 3,
   "id": "abe108e6-f6b7-4aff-89e5-747ba7d1644d",
   "metadata": {},
   "outputs": [
    {
     "name": "stdout",
     "output_type": "stream",
     "text": [
      "5.0\n",
      "[3 5 7 9]\n"
     ]
    }
   ],
   "source": [
    "arr = np.array([3, 5, 3, 7, 9, 5, 3])\n",
    "series_arr = pd.Series(arr)\n",
    "print(series_arr.mean())\n",
    "print(series_arr.unique())"
   ]
  },
  {
   "cell_type": "code",
   "execution_count": null,
   "id": "f2a05784-e9b0-4ef5-9b02-0f7b6a2e4321",
   "metadata": {},
   "outputs": [],
   "source": [
    "# You have a small dataset of daily temperatures. \n",
    "# Create a DataFrame and find the mean temperature for days where the temperature is above 20 degrees Celsius."
   ]
  },
  {
   "cell_type": "code",
   "execution_count": 4,
   "id": "7270bb85-ba1b-4335-beb5-47d84961bb3b",
   "metadata": {},
   "outputs": [
    {
     "name": "stdout",
     "output_type": "stream",
     "text": [
      "Dataset:\n",
      "   day  temperature\n",
      "0    1           18\n",
      "1    2           22\n",
      "2    3           25\n",
      "3    4           19\n",
      "4    5           24\n",
      "5    6           21\n",
      "6    7           17\n"
     ]
    },
    {
     "data": {
      "text/plain": [
       "day             4.0\n",
       "temperature    23.0\n",
       "dtype: float64"
      ]
     },
     "execution_count": 4,
     "metadata": {},
     "output_type": "execute_result"
    }
   ],
   "source": [
    "days = np.arange(1, 8)  # Days 1-7\n",
    "temps = np.array([18, 22, 25, 19, 24, 21, 17])\n",
    "df = pd.DataFrame({'day': days, 'temperature': temps})\n",
    "print(\"Dataset:\")\n",
    "print(df)\n",
    "df[df['temperature'] > 20].mean()"
   ]
  },
  {
   "cell_type": "code",
   "execution_count": null,
   "id": "5cc303da-1dbd-4603-913e-40e1ec63f892",
   "metadata": {},
   "outputs": [],
   "source": [
    "# You have a small dataset of students and their scores. \n",
    "# Load it into a pandas DataFrame and then extract the first 3 rows using an appropriate method."
   ]
  },
  {
   "cell_type": "code",
   "execution_count": 5,
   "id": "eadaa1a3-b0f7-4ec2-b36e-ba64487981cd",
   "metadata": {},
   "outputs": [
    {
     "name": "stdout",
     "output_type": "stream",
     "text": [
      "      Name  Score\n",
      "0    Alice     85\n",
      "1      Bob     92\n",
      "2  Charlie     78\n",
      "3    David     88\n",
      "4      Eve     95\n"
     ]
    },
    {
     "data": {
      "text/html": [
       "<div>\n",
       "<style scoped>\n",
       "    .dataframe tbody tr th:only-of-type {\n",
       "        vertical-align: middle;\n",
       "    }\n",
       "\n",
       "    .dataframe tbody tr th {\n",
       "        vertical-align: top;\n",
       "    }\n",
       "\n",
       "    .dataframe thead th {\n",
       "        text-align: right;\n",
       "    }\n",
       "</style>\n",
       "<table border=\"1\" class=\"dataframe\">\n",
       "  <thead>\n",
       "    <tr style=\"text-align: right;\">\n",
       "      <th></th>\n",
       "      <th>Name</th>\n",
       "      <th>Score</th>\n",
       "    </tr>\n",
       "  </thead>\n",
       "  <tbody>\n",
       "    <tr>\n",
       "      <th>0</th>\n",
       "      <td>Alice</td>\n",
       "      <td>85</td>\n",
       "    </tr>\n",
       "    <tr>\n",
       "      <th>1</th>\n",
       "      <td>Bob</td>\n",
       "      <td>92</td>\n",
       "    </tr>\n",
       "    <tr>\n",
       "      <th>2</th>\n",
       "      <td>Charlie</td>\n",
       "      <td>78</td>\n",
       "    </tr>\n",
       "  </tbody>\n",
       "</table>\n",
       "</div>"
      ],
      "text/plain": [
       "      Name  Score\n",
       "0    Alice     85\n",
       "1      Bob     92\n",
       "2  Charlie     78"
      ]
     },
     "execution_count": 5,
     "metadata": {},
     "output_type": "execute_result"
    }
   ],
   "source": [
    "import numpy as np\n",
    "import pandas as pd\n",
    "\n",
    "data = {\n",
    "    \"Name\": [\"Alice\", \"Bob\", \"Charlie\", \"David\", \"Eve\"],\n",
    "    \"Score\": [85, 92, 78, 88, 95]\n",
    "}\n",
    "df = pd.DataFrame(data)\n",
    "print(df)\n",
    "df.head(3)"
   ]
  },
  {
   "cell_type": "code",
   "execution_count": 6,
   "id": "8ef4645f-a202-4c11-98cd-fa6f0f5c16de",
   "metadata": {},
   "outputs": [
    {
     "data": {
      "text/plain": [
       "(5, 2)"
      ]
     },
     "execution_count": 6,
     "metadata": {},
     "output_type": "execute_result"
    }
   ],
   "source": [
    "df.shape"
   ]
  },
  {
   "cell_type": "code",
   "execution_count": null,
   "id": "aba762a8-0d4d-483d-9c19-d50f96fea6ba",
   "metadata": {},
   "outputs": [],
   "source": [
    "# Given a DataFrame with some missing prices, \n",
    "# fill missing values with the mean price and then compute the overall mean after filling."
   ]
  },
  {
   "cell_type": "code",
   "execution_count": null,
   "id": "4b38903b-8cd8-4810-870e-7e761d96ef2e",
   "metadata": {},
   "outputs": [],
   "source": [
    "data = {\n",
    "    \"Item\": [\"A\", \"B\", \"C\", \"D\", \"E\", \"F\"],\n",
    "    \"Price\": [10.0, np.nan, 15.0, np.nan, 20.0, 25.0]\n",
    "}\n",
    "df = pd.DataFrame(data)\n",
    "print(df)\n",
    "mean = df.Price.mean()\n",
    "print(\"Mean before filling nan : \",mean)\n",
    "df['Price'] = df['Price'].fillna(mean)\n",
    "mean = df.Price.mean()\n",
    "print(df)\n",
    "print(\"Mean after filling nan : \",mean)"
   ]
  },
  {
   "cell_type": "code",
   "execution_count": null,
   "id": "5490123a-c2da-4a22-ab42-c8f8dba736c3",
   "metadata": {},
   "outputs": [],
   "source": [
    "# Create a Series of temperatures (Celsius), \n",
    "# convert them to Fahrenheit using a vectorized operation, and extract the last 2 values."
   ]
  },
  {
   "cell_type": "code",
   "execution_count": 7,
   "id": "63f8d116-a7ba-4c58-b406-00b5077f9699",
   "metadata": {},
   "outputs": [
    {
     "name": "stdout",
     "output_type": "stream",
     "text": [
      "0     0.0\n",
      "1    12.5\n",
      "2    20.0\n",
      "3    30.0\n",
      "4    37.0\n",
      "dtype: float64\n",
      "3    86.0\n",
      "4    98.6\n",
      "dtype: float64\n"
     ]
    }
   ],
   "source": [
    "temps_c = pd.Series([0.0, 12.5, 20.0, 30.0, 37.0])\n",
    "print(temps_c)\n",
    "temps_f = (temps_c * 9/5) + 32\n",
    "print(temps_f.tail(2))"
   ]
  },
  {
   "cell_type": "code",
   "execution_count": null,
   "id": "755f3792-152a-49f7-b966-983f05188a24",
   "metadata": {},
   "outputs": [],
   "source": [
    "# Given an array of integers, \n",
    "# replace negative values with 0 using NumPy, then compute the mean and the count of zeros."
   ]
  },
  {
   "cell_type": "code",
   "execution_count": 8,
   "id": "52e86527-21a3-4317-9c52-c05f50d49fef",
   "metadata": {},
   "outputs": [
    {
     "name": "stdout",
     "output_type": "stream",
     "text": [
      "[ 3 -1  7 -5  0 12 -2]\n",
      "[ 3  0  7  0  0 12  0]\n",
      "3.142857142857143\n",
      "4\n"
     ]
    }
   ],
   "source": [
    "arr = np.array([3, -1, 7, -5, 0, 12, -2])\n",
    "print(arr)\n",
    "arr = np.where(arr < 0, 0, arr)\n",
    "mean = arr.mean()\n",
    "count = (arr == 0).sum()\n",
    "print(arr)\n",
    "print(mean)\n",
    "print(count)"
   ]
  },
  {
   "cell_type": "code",
   "execution_count": null,
   "id": "a0e755b4-59cf-4b9b-bc44-10c1d279e22b",
   "metadata": {},
   "outputs": [],
   "source": [
    "# Group a small sales DataFrame by product and compute:\n",
    "\n",
    "#     total quantity,\n",
    "#     average price,\n",
    "#     and a new column revenue = quantity * price per row, then total revenue per product."
   ]
  },
  {
   "cell_type": "code",
   "execution_count": 9,
   "id": "762a5b88-9302-4d4d-9eff-41f00e5855a9",
   "metadata": {},
   "outputs": [
    {
     "name": "stdout",
     "output_type": "stream",
     "text": [
      "  product  quantity  price\n",
      "0       A         2   10.0\n",
      "1       A         3   12.0\n",
      "2       B         1    8.0\n",
      "3       B         4    9.0\n",
      "4       C         5   11.0\n",
      "5       A         2   10.0\n",
      "         quantity      price\n",
      "product                     \n",
      "A               7  10.666667\n",
      "B               5   8.500000\n",
      "C               5  11.000000\n",
      "  product  quantity  price  revenue\n",
      "0       A         2   10.0     20.0\n",
      "1       A         3   12.0     36.0\n",
      "2       B         1    8.0      8.0\n",
      "3       B         4    9.0     36.0\n",
      "4       C         5   11.0     55.0\n",
      "5       A         2   10.0     20.0\n",
      "product\n",
      "A    76.0\n",
      "B    44.0\n",
      "C    55.0\n",
      "Name: revenue, dtype: float64\n"
     ]
    }
   ],
   "source": [
    "data = {\n",
    "    \"product\": [\"A\", \"A\", \"B\", \"B\", \"C\", \"A\"],\n",
    "    \"quantity\": [2, 3, 1, 4, 5, 2],\n",
    "    \"price\": [10.0, 12.0, 8.0, 9.0, 11.0, 10.0]\n",
    "}\n",
    "df = pd.DataFrame(data)\n",
    "print(df)\n",
    "\n",
    "new_df = df.groupby('product').agg({'quantity' : 'sum', 'price' : 'mean'})\n",
    "print(new_df)\n",
    "\n",
    "df['revenue'] = df['quantity'] * df['price']\n",
    "print(df)\n",
    "price_per_product = df.groupby('product')['revenue'].sum()\n",
    "print(price_per_product)"
   ]
  },
  {
   "cell_type": "code",
   "execution_count": null,
   "id": "2326f3da-980b-42ef-b21a-d223a699fa3b",
   "metadata": {},
   "outputs": [],
   "source": [
    "# Using NumPy broadcasting, standardize each column of a 2D array (subtract column means and divide by column std, ddof=0). \n",
    "# Then convert to a DataFrame with column names and verify each column now has mean≈0 and std≈1."
   ]
  },
  {
   "cell_type": "code",
   "execution_count": 10,
   "id": "1cd6a776-82e3-4302-8837-f76830bc46d4",
   "metadata": {},
   "outputs": [
    {
     "name": "stdout",
     "output_type": "stream",
     "text": [
      "[[1. 2. 3.]\n",
      " [2. 3. 5.]\n",
      " [3. 4. 7.]\n",
      " [4. 5. 9.]]\n",
      "      feat1     feat2     feat3\n",
      "0 -1.341641 -1.341641 -1.341641\n",
      "1 -0.447214 -0.447214 -0.447214\n",
      "2  0.447214  0.447214  0.447214\n",
      "3  1.341641  1.341641  1.341641\n",
      "True\n"
     ]
    }
   ],
   "source": [
    "X = np.array([[1., 2., 3.],\n",
    "              [2., 3., 5.],\n",
    "              [3., 4., 7.],\n",
    "              [4., 5., 9.]])\n",
    "cols = ['feat1', 'feat2', 'feat3']\n",
    "print(X) \n",
    "\n",
    "mean = X.mean(axis = 0, keepdims=True)\n",
    "std = X.std(axis = 0, keepdims=True)\n",
    "X = (X - mean) / std\n",
    "df = pd.DataFrame(X, columns = cols)\n",
    "print(df)\n",
    "mean_check = np.allclose(X.mean(axis = 0), 0) \n",
    "std_check = np.allclose(X.std(axis = 0), 1) \n",
    "print(mean_check & std_check)"
   ]
  },
  {
   "cell_type": "code",
   "execution_count": null,
   "id": "7462f4db-caf9-4fae-9dda-7c97e2f5ba9d",
   "metadata": {},
   "outputs": [],
   "source": [
    "# Create a Pandas DataFrame of daily steps for two users, \n",
    "# then use NumPy to clip extreme values and compute per-user weekly totals."
   ]
  },
  {
   "cell_type": "code",
   "execution_count": 11,
   "id": "2a049842-0358-4ba1-8696-edfbb45c48e3",
   "metadata": {},
   "outputs": [
    {
     "name": "stdout",
     "output_type": "stream",
     "text": [
      "         date user   steps\n",
      "0  2024-01-01   u1    1200\n",
      "1  2024-01-02   u1    8000\n",
      "2  2024-01-03   u1   15000\n",
      "3  2024-01-04   u1     400\n",
      "4  2024-01-05   u1   30000\n",
      "5  2024-01-06   u1    7000\n",
      "6  2024-01-07   u1    9000\n",
      "7  2024-01-01   u2     500\n",
      "8  2024-01-02   u2     600\n",
      "9  2024-01-03   u2     700\n",
      "10 2024-01-04   u2     800\n",
      "11 2024-01-05   u2     900\n",
      "12 2024-01-06   u2  100000\n",
      "13 2024-01-07   u2    1100\n",
      "user\n",
      "u1    60600\n",
      "u2    24600\n",
      "Name: steps_capped, dtype: int64\n"
     ]
    }
   ],
   "source": [
    "dates = pd.date_range(\"2024-01-01\", periods=7, freq=\"D\")\n",
    "df = pd.DataFrame({\n",
    "    \"date\": dates,\n",
    "    \"user\": [\"u1\",\"u1\",\"u1\",\"u1\",\"u1\",\"u1\",\"u1\"],\n",
    "    \"steps\": [1200, 8000, 15000, 400, 30000, 7000, 9000]\n",
    "})\n",
    "df2 = pd.DataFrame({\n",
    "    \"date\": dates,\n",
    "    \"user\": [\"u2\"]*7,\n",
    "    \"steps\": [500, 600, 700, 800, 900, 100000, 1100]\n",
    "})\n",
    "df = pd.concat([df, df2], ignore_index=True)\n",
    "print(df)\n",
    "df['steps_capped'] = np.clip(df['steps'], 1, 20000)\n",
    "\n",
    "per_user = df.groupby('user')['steps_capped'].sum()\n",
    "\n",
    "print(per_user)"
   ]
  },
  {
   "cell_type": "code",
   "execution_count": null,
   "id": "8f4ae3ef-ecc4-4d88-a656-6854b0b67378",
   "metadata": {},
   "outputs": [],
   "source": [
    "# Using np.where and Pandas, categorize product discounts and compute counts per category.\n",
    "\n",
    "# Create a new column tag with values:\n",
    "    # \"high\" if discount >= 20,\n",
    "    # \"low\" if 0 < discount < 20,\n",
    "    # \"none\" if discount == 0.\n",
    "\n",
    "# Return a Series with counts per tag value. Expected counts: {\"high\":2, \"low\":3, \"none\":3}."
   ]
  },
  {
   "cell_type": "code",
   "execution_count": 12,
   "id": "77c41dec-a85c-4478-8f75-d57ed697c61d",
   "metadata": {},
   "outputs": [
    {
     "name": "stdout",
     "output_type": "stream",
     "text": [
      "  product  price  discount\n",
      "0       A    100        10\n",
      "1       B     80         0\n",
      "2       C     50         5\n",
      "3       D     40        20\n",
      "4       E    120        30\n",
      "5       F     60         0\n",
      "6       G     90        15\n",
      "7       H     30         0\n",
      "  product  price  discount   tag\n",
      "0       A    100        10   low\n",
      "1       B     80         0  None\n",
      "2       C     50         5   low\n",
      "3       D     40        20  high\n",
      "4       E    120        30  high\n",
      "5       F     60         0  None\n",
      "6       G     90        15   low\n",
      "7       H     30         0  None\n",
      "      product_count\n",
      "tag                \n",
      "high              2\n",
      "low               3\n"
     ]
    }
   ],
   "source": [
    "df = pd.DataFrame({\n",
    "    \"product\": [\"A\",\"B\",\"C\",\"D\",\"E\",\"F\",\"G\",\"H\"],\n",
    "    \"price\":   [100, 80, 50, 40, 120, 60, 90, 30],\n",
    "    \"discount\":[10,  0,  5, 20,  30,  0, 15,  0]\n",
    "})\n",
    "discount_categorize = df.groupby('discount').agg(product_count = ('product', 'count'))\n",
    "print(df)\n",
    "df['tag'] = np.where(df['discount'] >= 20, 'high', np.where(df['discount'] > 0, 'low', None))\n",
    "print(df)\n",
    "counts_per_tag = df.groupby('tag').agg(product_count = ('product', 'count'))\n",
    "print(counts_per_tag)"
   ]
  },
  {
   "cell_type": "code",
   "execution_count": 14,
   "id": "527c2e01-46c8-4973-b58c-572e3cd5366d",
   "metadata": {},
   "outputs": [
    {
     "data": {
      "text/html": [
       "<div>\n",
       "<style scoped>\n",
       "    .dataframe tbody tr th:only-of-type {\n",
       "        vertical-align: middle;\n",
       "    }\n",
       "\n",
       "    .dataframe tbody tr th {\n",
       "        vertical-align: top;\n",
       "    }\n",
       "\n",
       "    .dataframe thead th {\n",
       "        text-align: right;\n",
       "    }\n",
       "</style>\n",
       "<table border=\"1\" class=\"dataframe\">\n",
       "  <thead>\n",
       "    <tr style=\"text-align: right;\">\n",
       "      <th></th>\n",
       "      <th>id</th>\n",
       "      <th>name</th>\n",
       "      <th>score</th>\n",
       "    </tr>\n",
       "  </thead>\n",
       "  <tbody>\n",
       "    <tr>\n",
       "      <th>0</th>\n",
       "      <td>1</td>\n",
       "      <td>Alice</td>\n",
       "      <td>85</td>\n",
       "    </tr>\n",
       "    <tr>\n",
       "      <th>1</th>\n",
       "      <td>2</td>\n",
       "      <td>Bob</td>\n",
       "      <td>90</td>\n",
       "    </tr>\n",
       "    <tr>\n",
       "      <th>2</th>\n",
       "      <td>4</td>\n",
       "      <td>Charlie</td>\n",
       "      <td>70</td>\n",
       "    </tr>\n",
       "  </tbody>\n",
       "</table>\n",
       "</div>"
      ],
      "text/plain": [
       "   id     name  score\n",
       "0   1    Alice     85\n",
       "1   2      Bob     90\n",
       "2   4  Charlie     70"
      ]
     },
     "execution_count": 14,
     "metadata": {},
     "output_type": "execute_result"
    }
   ],
   "source": [
    "import pandas as pd\n",
    "df1 = pd.DataFrame({\"id\": [1, 2, 4], \"name\": [\"Alice\", \"Bob\", \"Charlie\"]})\n",
    "df2 = pd.DataFrame({\"id\": [1, 2, 4], \"score\": [85, 90, 70]})\n",
    "\n",
    "pd.merge(df1, df2, on = 'id', how = 'right')"
   ]
  }
 ],
 "metadata": {
  "kernelspec": {
   "display_name": "Python [conda env:.conda-myenv]",
   "language": "python",
   "name": "conda-env-.conda-myenv-py"
  },
  "language_info": {
   "codemirror_mode": {
    "name": "ipython",
    "version": 3
   },
   "file_extension": ".py",
   "mimetype": "text/x-python",
   "name": "python",
   "nbconvert_exporter": "python",
   "pygments_lexer": "ipython3",
   "version": "3.10.18"
  }
 },
 "nbformat": 4,
 "nbformat_minor": 5
}
