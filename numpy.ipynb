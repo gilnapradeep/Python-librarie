{
 "cells": [
  {
   "cell_type": "code",
   "execution_count": 1,
   "id": "bcc39ef8-e612-4785-bb2b-87cabed10b42",
   "metadata": {},
   "outputs": [],
   "source": [
    "import numpy as np"
   ]
  },
  {
   "cell_type": "code",
   "execution_count": 2,
   "id": "33ea6348-d5d4-4c74-97a2-5295d1888468",
   "metadata": {},
   "outputs": [
    {
     "data": {
      "text/plain": [
       "array([0, 1, 2, 3, 4])"
      ]
     },
     "execution_count": 2,
     "metadata": {},
     "output_type": "execute_result"
    }
   ],
   "source": [
    "np.arange(5)"
   ]
  },
  {
   "cell_type": "code",
   "execution_count": 26,
   "id": "4266a86d-5ec1-49f2-ac49-278ed88d8d76",
   "metadata": {},
   "outputs": [
    {
     "name": "stdout",
     "output_type": "stream",
     "text": [
      "['1' '2.0' '3' 'j']\n"
     ]
    }
   ],
   "source": [
    "n1 = np.array((1,2.0,3,'j'))\n",
    "print(n1)"
   ]
  },
  {
   "cell_type": "code",
   "execution_count": 28,
   "id": "8227435d-dbe2-4d26-b756-6503d85206d7",
   "metadata": {},
   "outputs": [
    {
     "data": {
      "text/plain": [
       "numpy.ndarray"
      ]
     },
     "execution_count": 28,
     "metadata": {},
     "output_type": "execute_result"
    }
   ],
   "source": [
    "type(n1)"
   ]
  },
  {
   "cell_type": "code",
   "execution_count": 33,
   "id": "0093ca4c-c001-4d64-88ed-34c4f0e475c9",
   "metadata": {},
   "outputs": [
    {
     "name": "stdout",
     "output_type": "stream",
     "text": [
      "['hii' 1 4.7 list([0])]\n",
      "object\n"
     ]
    }
   ],
   "source": [
    "n=np.array(['hii',1,4.7,[0]], dtype=object)\n",
    "print(n)\n",
    "print(n.dtype)"
   ]
  },
  {
   "cell_type": "code",
   "execution_count": 22,
   "id": "feb7dd66-21f7-42f0-a1e7-a9c5cf8d5c58",
   "metadata": {},
   "outputs": [
    {
     "data": {
      "text/plain": [
       "numpy.ndarray"
      ]
     },
     "execution_count": 22,
     "metadata": {},
     "output_type": "execute_result"
    }
   ],
   "source": [
    "type(n)\n"
   ]
  },
  {
   "cell_type": "code",
   "execution_count": 35,
   "id": "1e1263e7-4a5e-48f3-94a9-c08701e30008",
   "metadata": {},
   "outputs": [
    {
     "name": "stdout",
     "output_type": "stream",
     "text": [
      "[1 'hello' list([1, 2, 3])] object\n"
     ]
    }
   ],
   "source": [
    "arr = np.array([1, \"hello\", [1,2,3]], dtype=object)\n",
    "print(arr, arr.dtype)\n"
   ]
  },
  {
   "cell_type": "code",
   "execution_count": 38,
   "id": "3f3c400e-537a-44e6-a87c-f4e2ccc5f149",
   "metadata": {},
   "outputs": [
    {
     "data": {
      "text/plain": [
       "numpy.ndarray"
      ]
     },
     "execution_count": 38,
     "metadata": {},
     "output_type": "execute_result"
    }
   ],
   "source": [
    "type(arr)"
   ]
  },
  {
   "cell_type": "code",
   "execution_count": 1,
   "id": "0bf6a8c5-155c-481b-8393-e1e9319b511d",
   "metadata": {},
   "outputs": [
    {
     "name": "stdout",
     "output_type": "stream",
     "text": [
      "[6, 14, 24, 36, 50]\n"
     ]
    }
   ],
   "source": [
    "a=[1,2,3,4,5]\n",
    "b=[6,7,8,9,10]\n",
    "c=[]\n",
    "for i in range(len(a)):\n",
    "    c.append(a[i]*b[i])\n",
    "print(c)"
   ]
  },
  {
   "cell_type": "code",
   "execution_count": 6,
   "id": "e033d595-e900-49de-9505-3407fe59d2bb",
   "metadata": {},
   "outputs": [
    {
     "name": "stdin",
     "output_type": "stream",
     "text": [
      "Enter no.of rows: 2\n",
      "Enter no.of columns: 3\n"
     ]
    },
    {
     "name": "stdout",
     "output_type": "stream",
     "text": [
      "Enter elements of first matrics:\n"
     ]
    },
    {
     "name": "stdin",
     "output_type": "stream",
     "text": [
      " 1 2 3\n",
      " 4 5 6\n"
     ]
    },
    {
     "name": "stdout",
     "output_type": "stream",
     "text": [
      "Enter elements of second matrix:\n"
     ]
    },
    {
     "name": "stdin",
     "output_type": "stream",
     "text": [
      " 7 8 9\n",
      " 10 11 12\n"
     ]
    },
    {
     "name": "stdout",
     "output_type": "stream",
     "text": [
      "Matrix:\n",
      "7 16 27\n",
      "40 55 72\n"
     ]
    }
   ],
   "source": [
    "r=int(input(\"Enter no.of rows:\"))\n",
    "cl=int(input(\"Enter no.of columns:\"))\n",
    "print(\"Enter elements of first matrics:\")\n",
    "a=[]\n",
    "for i in range(r):\n",
    "    row=list(map(int,input().split()))\n",
    "    a.append(row)\n",
    "print(\"Enter elements of second matrix:\")\n",
    "b=[]\n",
    "for i in range(r):\n",
    "    row=list(map(int,input().split()))\n",
    "    b.append(row)\n",
    "c=[]\n",
    "for i in range(r):\n",
    "    row=[]\n",
    "    for j in range(cl):\n",
    "        row.append(a[i][j]*b[i][j])\n",
    "    c.append(row)\n",
    "print(\"Matrix:\")\n",
    "for row in c:\n",
    "    print(*row)"
   ]
  },
  {
   "cell_type": "code",
   "execution_count": 12,
   "id": "6d511496-030f-459d-ba05-656f0739ab28",
   "metadata": {},
   "outputs": [
    {
     "data": {
      "text/plain": [
       "array([[ 0,  1,  2,  3,  4],\n",
       "       [ 5,  6,  7,  8,  9],\n",
       "       [10, 11, 12, 13, 14]])"
      ]
     },
     "execution_count": 12,
     "metadata": {},
     "output_type": "execute_result"
    }
   ],
   "source": [
    "import numpy as np\n",
    "a = np.arange(15).reshape(3,5)\n",
    "a"
   ]
  },
  {
   "cell_type": "code",
   "execution_count": 25,
   "id": "75a92d9b-9ef9-4de3-a559-6c2b5bca88d2",
   "metadata": {},
   "outputs": [
    {
     "name": "stdout",
     "output_type": "stream",
     "text": [
      "(3, 5)\n",
      "15\n",
      "2\n",
      "int64\n",
      "8\n",
      "<class 'numpy.ndarray'>\n",
      "[6 7 8]\n",
      "<class 'numpy.ndarray'>\n"
     ]
    }
   ],
   "source": [
    "print(a.shape)\n",
    "print(a.size)\n",
    "print(a.ndim)\n",
    "print(a.dtype.name)\n",
    "print(a.itemsize)\n",
    "print(type(a))\n",
    "b=np.array([6,7,8])\n",
    "print(b)\n",
    "print(type(b))"
   ]
  },
  {
   "cell_type": "code",
   "execution_count": 26,
   "id": "048a55d0-ec9e-45f7-be49-b7e0c7f0798f",
   "metadata": {},
   "outputs": [
    {
     "data": {
      "text/plain": [
       "array([2, 4, 6])"
      ]
     },
     "execution_count": 26,
     "metadata": {},
     "output_type": "execute_result"
    }
   ],
   "source": [
    "import numpy as np\n",
    "a = np.array([2,4,6])\n",
    "a"
   ]
  },
  {
   "cell_type": "code",
   "execution_count": 27,
   "id": "68a9187b-4b0f-4e39-8eef-3859beab638a",
   "metadata": {},
   "outputs": [
    {
     "data": {
      "text/plain": [
       "dtype('int64')"
      ]
     },
     "execution_count": 27,
     "metadata": {},
     "output_type": "execute_result"
    }
   ],
   "source": [
    "a.dtype"
   ]
  },
  {
   "cell_type": "code",
   "execution_count": 28,
   "id": "be5ac300-f8dd-4723-ab3f-865e64199ca0",
   "metadata": {},
   "outputs": [
    {
     "data": {
      "text/plain": [
       "array([1.2, 3.4, 5.6])"
      ]
     },
     "execution_count": 28,
     "metadata": {},
     "output_type": "execute_result"
    }
   ],
   "source": [
    "b=np.array([1.2,3.4,5.6])\n",
    "b"
   ]
  },
  {
   "cell_type": "code",
   "execution_count": 29,
   "id": "abb88228-ed50-4a5d-b096-002e93928d5a",
   "metadata": {},
   "outputs": [
    {
     "data": {
      "text/plain": [
       "dtype('float64')"
      ]
     },
     "execution_count": 29,
     "metadata": {},
     "output_type": "execute_result"
    }
   ],
   "source": [
    "b.dtype"
   ]
  },
  {
   "cell_type": "code",
   "execution_count": 32,
   "id": "b3bf0619-3dc4-41f3-8224-2ac9ed6bad19",
   "metadata": {},
   "outputs": [
    {
     "data": {
      "text/plain": [
       "array([1, 2, 3])"
      ]
     },
     "execution_count": 32,
     "metadata": {},
     "output_type": "execute_result"
    }
   ],
   "source": [
    "a=np.array([1,2,3])\n",
    "a"
   ]
  },
  {
   "cell_type": "code",
   "execution_count": 34,
   "id": "e6df9aaf-10ab-41e2-becc-051e8270c801",
   "metadata": {},
   "outputs": [
    {
     "data": {
      "text/plain": [
       "array([[1.5, 2. , 3. ],\n",
       "       [4. , 5. , 6. ]])"
      ]
     },
     "execution_count": 34,
     "metadata": {},
     "output_type": "execute_result"
    }
   ],
   "source": [
    "b=np.array([(1.5,2,3),(4,5,6)])\n",
    "b"
   ]
  },
  {
   "cell_type": "raw",
   "id": "b1cc502e-05ee-44fb-95ec-275901dbbe10",
   "metadata": {},
   "source": []
  },
  {
   "cell_type": "code",
   "execution_count": 35,
   "id": "7fdbac8e-5bc0-42a8-ad95-d2c10e86019f",
   "metadata": {},
   "outputs": [
    {
     "data": {
      "text/plain": [
       "array([[1.+0.j, 2.+0.j],\n",
       "       [3.+0.j, 4.+0.j]])"
      ]
     },
     "execution_count": 35,
     "metadata": {},
     "output_type": "execute_result"
    }
   ],
   "source": [
    "c=np.array([[1,2],[3,4]],dtype=complex)\n",
    "c"
   ]
  },
  {
   "cell_type": "code",
   "execution_count": 36,
   "id": "c25ffd59-bc5d-417b-a5ef-b7d8c4671c26",
   "metadata": {},
   "outputs": [
    {
     "data": {
      "text/plain": [
       "array([[0., 0., 0., 0.],\n",
       "       [0., 0., 0., 0.],\n",
       "       [0., 0., 0., 0.]])"
      ]
     },
     "execution_count": 36,
     "metadata": {},
     "output_type": "execute_result"
    }
   ],
   "source": [
    "np.zeros((3,4))"
   ]
  },
  {
   "cell_type": "code",
   "execution_count": 41,
   "id": "257605e6-1b3d-4f71-95d6-2713d4ae964a",
   "metadata": {},
   "outputs": [
    {
     "data": {
      "text/plain": [
       "array([[[1, 1, 1, 1],\n",
       "        [1, 1, 1, 1],\n",
       "        [1, 1, 1, 1]],\n",
       "\n",
       "       [[1, 1, 1, 1],\n",
       "        [1, 1, 1, 1],\n",
       "        [1, 1, 1, 1]]], dtype=int16)"
      ]
     },
     "execution_count": 41,
     "metadata": {},
     "output_type": "execute_result"
    }
   ],
   "source": [
    "np.ones((2,3,4),dtype=np.int16)"
   ]
  },
  {
   "cell_type": "code",
   "execution_count": 42,
   "id": "556e675e-6733-4cda-9106-b35fa364689a",
   "metadata": {},
   "outputs": [
    {
     "data": {
      "text/plain": [
       "array([[1.5, 2. , 3. ],\n",
       "       [4. , 5. , 6. ]])"
      ]
     },
     "execution_count": 42,
     "metadata": {},
     "output_type": "execute_result"
    }
   ],
   "source": [
    "np.empty((2,3))"
   ]
  },
  {
   "cell_type": "code",
   "execution_count": 43,
   "id": "a25c3a36-4005-4cfe-85d5-f6c8c863a6c3",
   "metadata": {},
   "outputs": [
    {
     "data": {
      "text/plain": [
       "array([10, 15, 20, 25])"
      ]
     },
     "execution_count": 43,
     "metadata": {},
     "output_type": "execute_result"
    }
   ],
   "source": [
    "np.arange(10,30,5)"
   ]
  },
  {
   "cell_type": "code",
   "execution_count": 44,
   "id": "298e951c-e93b-4541-ae4a-7168acead119",
   "metadata": {},
   "outputs": [
    {
     "data": {
      "text/plain": [
       "array([0. , 0.3, 0.6, 0.9, 1.2, 1.5, 1.8])"
      ]
     },
     "execution_count": 44,
     "metadata": {},
     "output_type": "execute_result"
    }
   ],
   "source": [
    "np.arange(0,2,0.3)"
   ]
  },
  {
   "cell_type": "code",
   "execution_count": 54,
   "id": "46b16794-4128-4daa-b7d4-54011fc96f6f",
   "metadata": {},
   "outputs": [
    {
     "data": {
      "text/plain": [
       "array([0.  , 0.25, 0.5 , 0.75, 1.  , 1.25, 1.5 , 1.75, 2.  ])"
      ]
     },
     "execution_count": 54,
     "metadata": {},
     "output_type": "execute_result"
    }
   ],
   "source": [
    "from numpy import pi\n",
    "np.linspace(0,2,9)"
   ]
  },
  {
   "cell_type": "code",
   "execution_count": 61,
   "id": "499cd663-061d-4aad-9ebc-294f7ca2c4c5",
   "metadata": {},
   "outputs": [],
   "source": [
    "x=np.linspace(0,2*pi,100)\n",
    "f=np.sin(x)"
   ]
  },
  {
   "cell_type": "code",
   "execution_count": 65,
   "id": "3d8bbf82-2e22-4e28-a372-993933abf1a4",
   "metadata": {},
   "outputs": [
    {
     "data": {
      "text/plain": [
       "[191]"
      ]
     },
     "execution_count": 65,
     "metadata": {},
     "output_type": "execute_result"
    }
   ],
   "source": [
    "#Outliers\n",
    "dt = [11, 10, 12, 14, 12, 15, 14, 13, 15, 102, 12, 14, 17, 191, 107, \n",
    "      10, 13, 12, 14, 12, 108, 12, 11, 14, 13, 15, 12, 10, 14, 13, 15, 10]\n",
    "\n",
    "\n",
    "\n",
    "def outliers(x):\n",
    "    thresh = 3\n",
    "    mean = np.mean(x)\n",
    "    std = np.std(x)\n",
    "    outliers = []\n",
    "\n",
    "    for i in  x:\n",
    "        z_score = (i - mean) / std\n",
    "        if np.abs(z_score) > thresh:\n",
    "            outliers.append(i)\n",
    "\n",
    "    return outliers\n",
    "\n",
    "outliers(dt)"
   ]
  },
  {
   "cell_type": "code",
   "execution_count": 72,
   "id": "5c88fef7-788a-46fb-95b1-2262142e5347",
   "metadata": {},
   "outputs": [
    {
     "name": "stdout",
     "output_type": "stream",
     "text": [
      "1 2 30\n"
     ]
    }
   ],
   "source": [
    "def myfunc(a,b,*,c=10):\n",
    "    print(a,b,c)\n",
    "myfunc(1,2,c=30)"
   ]
  },
  {
   "cell_type": "code",
   "execution_count": 83,
   "id": "060f00ec-8dcb-4ab9-ba08-4ed5d1125eeb",
   "metadata": {},
   "outputs": [
    {
     "name": "stdout",
     "output_type": "stream",
     "text": [
      "array('l') array('u', 'hello ♁') array('l', [1, 2, 3, 4, 5]) array('d', [1.0, 2.0, 3.14, -inf, nan])\n"
     ]
    }
   ],
   "source": [
    "from array import array\n",
    "import math\n",
    "a=array('l')\n",
    "b=array('u','hello \\u2641')\n",
    "c=array('l',[1,2,3,4,5])\n",
    "d=array('d',[1.0,2.0,3.14,-math.inf,math.nan])\n",
    "print(a,b,c,d)"
   ]
  },
  {
   "cell_type": "code",
   "execution_count": 3,
   "id": "6e1c72d1-88f3-4a32-b7b1-dffe883ca75b",
   "metadata": {},
   "outputs": [
    {
     "name": "stdout",
     "output_type": "stream",
     "text": [
      "[0 1 2 3 4 5]\n"
     ]
    }
   ],
   "source": [
    "import numpy as np\n",
    "a = np.arange(6)\n",
    "print(a)"
   ]
  },
  {
   "cell_type": "code",
   "execution_count": 4,
   "id": "36bab584-560b-44ad-8dc1-a67a7983dbd1",
   "metadata": {},
   "outputs": [
    {
     "name": "stdout",
     "output_type": "stream",
     "text": [
      "[[ 0  1  2]\n",
      " [ 3  4  5]\n",
      " [ 6  7  8]\n",
      " [ 9 10 11]]\n"
     ]
    }
   ],
   "source": [
    "b = np.arange(12).reshape(4,3)\n",
    "print(b)"
   ]
  },
  {
   "cell_type": "code",
   "execution_count": 5,
   "id": "70708cd9-f2c8-4496-a9f7-40ca552de93e",
   "metadata": {},
   "outputs": [
    {
     "name": "stdout",
     "output_type": "stream",
     "text": [
      "[[[ 0  1  2  3]\n",
      "  [ 4  5  6  7]\n",
      "  [ 8  9 10 11]]\n",
      "\n",
      " [[12 13 14 15]\n",
      "  [16 17 18 19]\n",
      "  [20 21 22 23]]]\n"
     ]
    }
   ],
   "source": [
    "c = np.arange(24).reshape(2,3,4)\n",
    "print(c)"
   ]
  },
  {
   "cell_type": "code",
   "execution_count": 10,
   "id": "91d5c06a-0a5d-44f7-8f7d-c0f0673050e1",
   "metadata": {},
   "outputs": [
    {
     "name": "stdout",
     "output_type": "stream",
     "text": [
      "[   0    1    2 ... 9997 9998 9999]\n"
     ]
    }
   ],
   "source": [
    "print(np.arange(10000))"
   ]
  },
  {
   "cell_type": "code",
   "execution_count": 11,
   "id": "f7cbc58a-79c4-4729-b2b6-ab2fa648d1d8",
   "metadata": {},
   "outputs": [
    {
     "name": "stdout",
     "output_type": "stream",
     "text": [
      "[[   0    1    2 ...   97   98   99]\n",
      " [ 100  101  102 ...  197  198  199]\n",
      " [ 200  201  202 ...  297  298  299]\n",
      " ...\n",
      " [9700 9701 9702 ... 9797 9798 9799]\n",
      " [9800 9801 9802 ... 9897 9898 9899]\n",
      " [9900 9901 9902 ... 9997 9998 9999]]\n"
     ]
    }
   ],
   "source": [
    "print(np.arange(10000).reshape(100,100))"
   ]
  },
  {
   "cell_type": "code",
   "execution_count": 13,
   "id": "0934ed9a-e6ba-41f8-9ad9-68916eb1590a",
   "metadata": {},
   "outputs": [],
   "source": [
    "import sys\n",
    "np.set_printoptions(threshold=sys.maxsize)"
   ]
  },
  {
   "cell_type": "code",
   "execution_count": 15,
   "id": "b45f3f7d-b73a-4ec3-a00a-ea208560458b",
   "metadata": {},
   "outputs": [
    {
     "data": {
      "text/plain": [
       "array([[2, 0],\n",
       "       [0, 4]])"
      ]
     },
     "execution_count": 15,
     "metadata": {},
     "output_type": "execute_result"
    }
   ],
   "source": [
    "A = np.array([[1,1],[0,1]])\n",
    "B = np.array([[2,0],[3,4]])\n",
    "A*B"
   ]
  },
  {
   "cell_type": "code",
   "execution_count": 16,
   "id": "6ae3163d-bdce-4a86-8d85-8fe65194f764",
   "metadata": {},
   "outputs": [
    {
     "data": {
      "text/plain": [
       "array([[5, 4],\n",
       "       [3, 4]])"
      ]
     },
     "execution_count": 16,
     "metadata": {},
     "output_type": "execute_result"
    }
   ],
   "source": [
    "A@B"
   ]
  },
  {
   "cell_type": "code",
   "execution_count": 17,
   "id": "aeeb8ff5-679b-4453-82d8-4b9b65673825",
   "metadata": {},
   "outputs": [
    {
     "name": "stdout",
     "output_type": "stream",
     "text": [
      "32\n"
     ]
    }
   ],
   "source": [
    "x=np.array([1,2,3])\n",
    "y=np.array([4,5,6])\n",
    "print(x.dot(y))"
   ]
  },
  {
   "cell_type": "code",
   "execution_count": 27,
   "id": "ca04ddd7-4975-48c7-8cb5-6cffc22b2aa8",
   "metadata": {},
   "outputs": [
    {
     "name": "stdout",
     "output_type": "stream",
     "text": [
      "[[1 1 1]\n",
      " [1 1 1]]\n",
      "[[0.51182162 0.9504637  0.14415961]\n",
      " [0.94864945 0.31183145 0.42332645]]\n",
      "[[3 3 3]\n",
      " [3 3 3]]\n",
      "[[3.51182162 3.9504637  3.14415961]\n",
      " [3.94864945 3.31183145 3.42332645]]\n"
     ]
    },
    {
     "ename": "UFuncTypeError",
     "evalue": "Cannot cast ufunc 'add' output from dtype('float64') to dtype('int64') with casting rule 'same_kind'",
     "output_type": "error",
     "traceback": [
      "\u001b[31m---------------------------------------------------------------------------\u001b[39m",
      "\u001b[31mUFuncTypeError\u001b[39m                            Traceback (most recent call last)",
      "\u001b[36mCell\u001b[39m\u001b[36m \u001b[39m\u001b[32mIn[27]\u001b[39m\u001b[32m, line 10\u001b[39m\n\u001b[32m      8\u001b[39m b+=a\n\u001b[32m      9\u001b[39m \u001b[38;5;28mprint\u001b[39m(b)\n\u001b[32m---> \u001b[39m\u001b[32m10\u001b[39m \u001b[43ma\u001b[49m\u001b[43m+\u001b[49m\u001b[43m=\u001b[49m\u001b[43mb\u001b[49m\n\u001b[32m     11\u001b[39m \u001b[38;5;28mprint\u001b[39m(a)\n",
      "\u001b[31mUFuncTypeError\u001b[39m: Cannot cast ufunc 'add' output from dtype('float64') to dtype('int64') with casting rule 'same_kind'"
     ]
    }
   ],
   "source": [
    "rg=np.random.default_rng(1)\n",
    "a=np.ones((2,3),dtype=int)\n",
    "print(a)\n",
    "b=rg.random((2,3))\n",
    "print(b)\n",
    "a*=3\n",
    "print(a)\n",
    "b+=a\n",
    "print(b)\n",
    "a+=b\n",
    "print(a)"
   ]
  },
  {
   "cell_type": "code",
   "execution_count": 4,
   "id": "9841c3bb-33d7-41be-964e-e16a47057ff8",
   "metadata": {},
   "outputs": [
    {
     "data": {
      "text/plain": [
       "'float64'"
      ]
     },
     "execution_count": 4,
     "metadata": {},
     "output_type": "execute_result"
    }
   ],
   "source": [
    "import numpy as np\n",
    "from numpy import pi\n",
    "a=np.ones(3,dtype=np.int32)\n",
    "b=np.linspace(0,pi,3)\n",
    "b.dtype.name"
   ]
  },
  {
   "cell_type": "code",
   "execution_count": 7,
   "id": "fdf92a38-19f7-45b6-a5e9-b5f3b4e416de",
   "metadata": {},
   "outputs": [
    {
     "data": {
      "text/plain": [
       "array([1.        , 2.57079633, 4.14159265])"
      ]
     },
     "execution_count": 7,
     "metadata": {},
     "output_type": "execute_result"
    }
   ],
   "source": [
    "c=a+b\n",
    "c"
   ]
  },
  {
   "cell_type": "code",
   "execution_count": 6,
   "id": "f39e1e26-b5f7-43bb-a982-1d3d86b267c1",
   "metadata": {},
   "outputs": [
    {
     "data": {
      "text/plain": [
       "'float64'"
      ]
     },
     "execution_count": 6,
     "metadata": {},
     "output_type": "execute_result"
    }
   ],
   "source": [
    "c.dtype.name"
   ]
  },
  {
   "cell_type": "code",
   "execution_count": 8,
   "id": "f212c22a-afc4-443e-b768-082d29a5fb48",
   "metadata": {},
   "outputs": [
    {
     "data": {
      "text/plain": [
       "array([ 0.54030231+0.84147098j, -0.84147098+0.54030231j,\n",
       "       -0.54030231-0.84147098j])"
      ]
     },
     "execution_count": 8,
     "metadata": {},
     "output_type": "execute_result"
    }
   ],
   "source": [
    "d=np.exp(c*1j)\n",
    "d"
   ]
  },
  {
   "cell_type": "code",
   "execution_count": 9,
   "id": "a71c48be-6f71-49bf-a0b2-335a9b8b703b",
   "metadata": {},
   "outputs": [
    {
     "data": {
      "text/plain": [
       "'complex128'"
      ]
     },
     "execution_count": 9,
     "metadata": {},
     "output_type": "execute_result"
    }
   ],
   "source": [
    "d.dtype.name"
   ]
  },
  {
   "cell_type": "code",
   "execution_count": 11,
   "id": "bdf2e7f7-de43-4fd6-ad6a-527011dd6092",
   "metadata": {},
   "outputs": [
    {
     "data": {
      "text/plain": [
       "array([[0.51182162, 0.9504637 , 0.14415961],\n",
       "       [0.94864945, 0.31183145, 0.42332645]])"
      ]
     },
     "execution_count": 11,
     "metadata": {},
     "output_type": "execute_result"
    }
   ],
   "source": [
    "rg=np.random.default_rng(1)\n",
    "a = rg.random((2,3))\n",
    "a"
   ]
  },
  {
   "cell_type": "code",
   "execution_count": 12,
   "id": "f40b1b80-1aa0-4b42-902c-ab66b42fefcd",
   "metadata": {},
   "outputs": [
    {
     "data": {
      "text/plain": [
       "np.float64(3.290252281866131)"
      ]
     },
     "execution_count": 12,
     "metadata": {},
     "output_type": "execute_result"
    }
   ],
   "source": [
    "a.sum()"
   ]
  },
  {
   "cell_type": "code",
   "execution_count": 13,
   "id": "b006199e-cf5b-459c-ae02-80c77db4be3d",
   "metadata": {},
   "outputs": [
    {
     "name": "stdout",
     "output_type": "stream",
     "text": [
      "0.14415961271963373\n",
      "0.9504636963259353\n"
     ]
    }
   ],
   "source": [
    "print(a.min())\n",
    "print(a.max())\n"
   ]
  },
  {
   "cell_type": "code",
   "execution_count": 14,
   "id": "f1bcc541-8528-4f7d-8ad1-a0a2ab858808",
   "metadata": {},
   "outputs": [
    {
     "data": {
      "text/plain": [
       "array([[ 0,  1,  2,  3],\n",
       "       [ 4,  5,  6,  7],\n",
       "       [ 8,  9, 10, 11]])"
      ]
     },
     "execution_count": 14,
     "metadata": {},
     "output_type": "execute_result"
    }
   ],
   "source": [
    "b=np.arange(12).reshape(3,4)\n",
    "b"
   ]
  },
  {
   "cell_type": "code",
   "execution_count": 17,
   "id": "125f8854-f60a-4334-8dff-7723826072e1",
   "metadata": {},
   "outputs": [
    {
     "name": "stdout",
     "output_type": "stream",
     "text": [
      "[12 15 18 21]\n",
      "[ 6 22 38]\n"
     ]
    }
   ],
   "source": [
    "print(b.sum(axis=0))\n",
    "print(b.sum(axis=1))"
   ]
  },
  {
   "cell_type": "code",
   "execution_count": 20,
   "id": "dcc66c12-b244-4125-aced-d908979dbe96",
   "metadata": {},
   "outputs": [
    {
     "name": "stdout",
     "output_type": "stream",
     "text": [
      "[0 4 8]\n",
      "[0 1 2 3]\n"
     ]
    }
   ],
   "source": [
    "print(b.min(axis=1))\n",
    "print(b.min(axis=0))"
   ]
  },
  {
   "cell_type": "code",
   "execution_count": 21,
   "id": "71bda9bb-96b2-48c3-9d23-c430aab00df1",
   "metadata": {},
   "outputs": [
    {
     "data": {
      "text/plain": [
       "array([[ 0,  1,  3,  6],\n",
       "       [ 4,  9, 15, 22],\n",
       "       [ 8, 17, 27, 38]])"
      ]
     },
     "execution_count": 21,
     "metadata": {},
     "output_type": "execute_result"
    }
   ],
   "source": [
    "b.cumsum(axis=1)"
   ]
  },
  {
   "cell_type": "code",
   "execution_count": 27,
   "id": "eb681520-87d7-4a0c-b6b0-392b69421031",
   "metadata": {},
   "outputs": [
    {
     "data": {
      "text/plain": [
       "array([0, 1, 2])"
      ]
     },
     "execution_count": 27,
     "metadata": {},
     "output_type": "execute_result"
    }
   ],
   "source": [
    "B=np.arange(3)\n",
    "B"
   ]
  },
  {
   "cell_type": "code",
   "execution_count": 24,
   "id": "f40e169c-c117-4b35-9684-aacbbcf36040",
   "metadata": {},
   "outputs": [
    {
     "data": {
      "text/plain": [
       "array([1.        , 2.71828183, 7.3890561 ])"
      ]
     },
     "execution_count": 24,
     "metadata": {},
     "output_type": "execute_result"
    }
   ],
   "source": [
    "np.exp(B)"
   ]
  },
  {
   "cell_type": "code",
   "execution_count": 25,
   "id": "8e2a1643-60c9-4876-9901-c32f768a886e",
   "metadata": {},
   "outputs": [
    {
     "data": {
      "text/plain": [
       "array([0.        , 1.        , 1.41421356])"
      ]
     },
     "execution_count": 25,
     "metadata": {},
     "output_type": "execute_result"
    }
   ],
   "source": [
    "np.sqrt(B)"
   ]
  },
  {
   "cell_type": "code",
   "execution_count": 29,
   "id": "d2d12bf8-140f-4e7c-b262-f6edc7ec56c5",
   "metadata": {},
   "outputs": [
    {
     "data": {
      "text/plain": [
       "array([2., 0., 6.])"
      ]
     },
     "execution_count": 29,
     "metadata": {},
     "output_type": "execute_result"
    }
   ],
   "source": [
    "C=np.array([2.,-1.,4.])\n",
    "np.add(B,C)"
   ]
  },
  {
   "cell_type": "code",
   "execution_count": 30,
   "id": "251a52c6-fb33-422c-9f4f-5d58ec0d8346",
   "metadata": {},
   "outputs": [
    {
     "data": {
      "text/plain": [
       "array([  0,   1,   8,  27,  64, 125, 216, 343, 512, 729])"
      ]
     },
     "execution_count": 30,
     "metadata": {},
     "output_type": "execute_result"
    }
   ],
   "source": [
    "a=np.arange(10)**3\n",
    "a"
   ]
  },
  {
   "cell_type": "code",
   "execution_count": 31,
   "id": "ac7a80b8-02db-4980-9b19-59d3c2337000",
   "metadata": {},
   "outputs": [
    {
     "data": {
      "text/plain": [
       "np.int64(8)"
      ]
     },
     "execution_count": 31,
     "metadata": {},
     "output_type": "execute_result"
    }
   ],
   "source": [
    "a[2]"
   ]
  },
  {
   "cell_type": "code",
   "execution_count": 32,
   "id": "e0e17770-6d9f-49f7-a2cd-f191f29a07d7",
   "metadata": {},
   "outputs": [
    {
     "data": {
      "text/plain": [
       "array([ 8, 27, 64])"
      ]
     },
     "execution_count": 32,
     "metadata": {},
     "output_type": "execute_result"
    }
   ],
   "source": [
    "a[2:5]"
   ]
  },
  {
   "cell_type": "code",
   "execution_count": 33,
   "id": "096a0510-5c6c-481c-867a-45b50e7e821e",
   "metadata": {},
   "outputs": [
    {
     "data": {
      "text/plain": [
       "array([ 0,  8, 64])"
      ]
     },
     "execution_count": 33,
     "metadata": {},
     "output_type": "execute_result"
    }
   ],
   "source": [
    "a[:6:2]"
   ]
  },
  {
   "cell_type": "code",
   "execution_count": 34,
   "id": "2a2b3c82-52ef-4839-ae61-0d31a1edd616",
   "metadata": {},
   "outputs": [
    {
     "data": {
      "text/plain": [
       "array([729, 512, 343, 216, 125,  64,  27,   8,   1,   0])"
      ]
     },
     "execution_count": 34,
     "metadata": {},
     "output_type": "execute_result"
    }
   ],
   "source": [
    "a[::-1]"
   ]
  },
  {
   "cell_type": "code",
   "execution_count": 38,
   "id": "6e68753c-7d47-47e9-8e8f-d3864f74540e",
   "metadata": {},
   "outputs": [
    {
     "name": "stdout",
     "output_type": "stream",
     "text": [
      "1.0\n",
      "1.0\n",
      "255.99999999999991\n",
      "7625597484987.0\n",
      "3.402823669209368e+38\n",
      "2.3509887016445483e+87\n",
      "1.2041208676482352e+168\n",
      "7.389715606740146e+289\n",
      "inf\n",
      "inf\n"
     ]
    },
    {
     "name": "stderr",
     "output_type": "stream",
     "text": [
      "C:\\Users\\admin\\AppData\\Local\\Temp\\ipykernel_16976\\1257738107.py:2: RuntimeWarning: overflow encountered in scalar power\n",
      "  print(i**(i/3.))\n"
     ]
    }
   ],
   "source": [
    "for i in a:\n",
    "    print(i**(i/3.))"
   ]
  },
  {
   "cell_type": "code",
   "execution_count": 45,
   "id": "1880aa89-8002-4ded-a168-cd1e25cfe25b",
   "metadata": {},
   "outputs": [
    {
     "name": "stdout",
     "output_type": "stream",
     "text": [
      "[[ 0  1  2  3]\n",
      " [10 11 12 13]\n",
      " [20 21 22 23]\n",
      " [30 31 32 33]\n",
      " [40 41 42 43]]\n",
      "23\n",
      "[ 1 11 21 31 41]\n"
     ]
    }
   ],
   "source": [
    "def f(x,y):\n",
    "    return 10*x+y\n",
    "b=np.fromfunction(f,(5,4),dtype=int)\n",
    "print(b)\n",
    "print(b[2,3])\n",
    "print(b[0:5,1])"
   ]
  },
  {
   "cell_type": "code",
   "execution_count": 2,
   "id": "78823d71-bf17-4e73-9811-0825462b0e47",
   "metadata": {},
   "outputs": [
    {
     "data": {
      "text/plain": [
       "(2, 2, 3)"
      ]
     },
     "execution_count": 2,
     "metadata": {},
     "output_type": "execute_result"
    }
   ],
   "source": [
    "import numpy as np\n",
    "c= np.array([[[0,1,2],[10,12,13]],[[100,102,102],[110,112,113]]])\n",
    "c.shape"
   ]
  },
  {
   "cell_type": "code",
   "execution_count": 3,
   "id": "f1e19244-1ac4-4a74-b3b3-b71b1fb99c8b",
   "metadata": {},
   "outputs": [
    {
     "data": {
      "text/plain": [
       "array([[100, 102, 102],\n",
       "       [110, 112, 113]])"
      ]
     },
     "execution_count": 3,
     "metadata": {},
     "output_type": "execute_result"
    }
   ],
   "source": [
    "c[1,...]"
   ]
  },
  {
   "cell_type": "code",
   "execution_count": 4,
   "id": "d6a264f4-0135-4779-b83d-6c89a3e7bee4",
   "metadata": {},
   "outputs": [
    {
     "data": {
      "text/plain": [
       "array([[  2,  13],\n",
       "       [102, 113]])"
      ]
     },
     "execution_count": 4,
     "metadata": {},
     "output_type": "execute_result"
    }
   ],
   "source": [
    "c[...,2]"
   ]
  },
  {
   "cell_type": "code",
   "execution_count": 7,
   "id": "459d3ed9-f738-4b68-b249-671813cac671",
   "metadata": {},
   "outputs": [
    {
     "name": "stdout",
     "output_type": "stream",
     "text": [
      "[[ 0  1  2]\n",
      " [10 12 13]]\n",
      "[[100 102 102]\n",
      " [110 112 113]]\n"
     ]
    }
   ],
   "source": [
    "for row in c:\n",
    "    print(row)"
   ]
  },
  {
   "cell_type": "code",
   "execution_count": 8,
   "id": "0590b545-b43c-42a8-9e2c-7e909cfb928e",
   "metadata": {},
   "outputs": [
    {
     "name": "stdout",
     "output_type": "stream",
     "text": [
      "0\n",
      "1\n",
      "2\n",
      "10\n",
      "12\n",
      "13\n",
      "100\n",
      "102\n",
      "102\n",
      "110\n",
      "112\n",
      "113\n"
     ]
    }
   ],
   "source": [
    "for row in c.flat:\n",
    "    print(row)"
   ]
  },
  {
   "cell_type": "code",
   "execution_count": 35,
   "id": "ecd95800-f962-4b3c-8df8-d0a9e9100f6e",
   "metadata": {},
   "outputs": [
    {
     "data": {
      "text/plain": [
       "array([[7., 4., 8., 6.],\n",
       "       [0., 9., 7., 7.],\n",
       "       [1., 4., 3., 9.]])"
      ]
     },
     "execution_count": 35,
     "metadata": {},
     "output_type": "execute_result"
    }
   ],
   "source": [
    "rg=np.random.default_rng(seed=42)\n",
    "a=np.floor(10*rg.random((3,4)))\n",
    "a"
   ]
  },
  {
   "cell_type": "code",
   "execution_count": 11,
   "id": "b90754e0-a12e-49cb-8bc7-5622f0b9065a",
   "metadata": {},
   "outputs": [
    {
     "data": {
      "text/plain": [
       "(3, 4)"
      ]
     },
     "execution_count": 11,
     "metadata": {},
     "output_type": "execute_result"
    }
   ],
   "source": [
    "a.shape"
   ]
  },
  {
   "cell_type": "code",
   "execution_count": 13,
   "id": "74d9b8f7-947c-4778-9fde-31c2f0e83bb9",
   "metadata": {},
   "outputs": [
    {
     "data": {
      "text/plain": [
       "array([2., 9., 2., 2., 1., 3., 9., 5., 2., 6., 4., 7.])"
      ]
     },
     "execution_count": 13,
     "metadata": {},
     "output_type": "execute_result"
    }
   ],
   "source": [
    "a.ravel()"
   ]
  },
  {
   "cell_type": "code",
   "execution_count": 14,
   "id": "190dda88-dbad-4810-9cf9-368026f6df04",
   "metadata": {},
   "outputs": [
    {
     "data": {
      "text/plain": [
       "array([[2., 9.],\n",
       "       [2., 2.],\n",
       "       [1., 3.],\n",
       "       [9., 5.],\n",
       "       [2., 6.],\n",
       "       [4., 7.]])"
      ]
     },
     "execution_count": 14,
     "metadata": {},
     "output_type": "execute_result"
    }
   ],
   "source": [
    "a.reshape(6,2)"
   ]
  },
  {
   "cell_type": "code",
   "execution_count": 15,
   "id": "245e1c1a-4f41-40d0-b308-add8c8573090",
   "metadata": {},
   "outputs": [
    {
     "data": {
      "text/plain": [
       "array([[2., 1., 2.],\n",
       "       [9., 3., 6.],\n",
       "       [2., 9., 4.],\n",
       "       [2., 5., 7.]])"
      ]
     },
     "execution_count": 15,
     "metadata": {},
     "output_type": "execute_result"
    }
   ],
   "source": [
    "a.T"
   ]
  },
  {
   "cell_type": "code",
   "execution_count": 16,
   "id": "001df866-6720-454b-8653-f38ffae42ef0",
   "metadata": {},
   "outputs": [
    {
     "data": {
      "text/plain": [
       "(4, 3)"
      ]
     },
     "execution_count": 16,
     "metadata": {},
     "output_type": "execute_result"
    }
   ],
   "source": [
    "a.T.shape"
   ]
  },
  {
   "cell_type": "code",
   "execution_count": 17,
   "id": "9989143b-ca0e-4b04-9a51-7cff6f8f2eb6",
   "metadata": {},
   "outputs": [
    {
     "data": {
      "text/plain": [
       "(3, 4)"
      ]
     },
     "execution_count": 17,
     "metadata": {},
     "output_type": "execute_result"
    }
   ],
   "source": [
    "a.shape"
   ]
  },
  {
   "cell_type": "code",
   "execution_count": 18,
   "id": "df17aefd-f872-4a67-9227-77ba3c54d40c",
   "metadata": {},
   "outputs": [
    {
     "data": {
      "text/plain": [
       "array([2., 9., 2., 2., 1., 3., 9., 5., 2., 6., 4., 7.])"
      ]
     },
     "execution_count": 18,
     "metadata": {},
     "output_type": "execute_result"
    }
   ],
   "source": [
    "a.ravel(order=\"C\")"
   ]
  },
  {
   "cell_type": "code",
   "execution_count": 19,
   "id": "ccbe303c-c2d9-470f-97a5-cb25e2514917",
   "metadata": {},
   "outputs": [
    {
     "data": {
      "text/plain": [
       "array([2., 1., 2., 9., 3., 6., 2., 9., 4., 2., 5., 7.])"
      ]
     },
     "execution_count": 19,
     "metadata": {},
     "output_type": "execute_result"
    }
   ],
   "source": [
    "a.ravel(order=\"F\")"
   ]
  },
  {
   "cell_type": "code",
   "execution_count": 20,
   "id": "c448ee7e-5e02-4dbb-b92f-2ca977d0a3bf",
   "metadata": {},
   "outputs": [
    {
     "data": {
      "text/plain": [
       "array([[2., 9., 2., 2.],\n",
       "       [1., 3., 9., 5.],\n",
       "       [2., 6., 4., 7.]])"
      ]
     },
     "execution_count": 20,
     "metadata": {},
     "output_type": "execute_result"
    }
   ],
   "source": [
    "a"
   ]
  },
  {
   "cell_type": "code",
   "execution_count": 22,
   "id": "9e62909b-d577-42e0-beaf-841b7f8e1fb1",
   "metadata": {},
   "outputs": [],
   "source": [
    "a.resize((2,6))"
   ]
  },
  {
   "cell_type": "code",
   "execution_count": 23,
   "id": "ef4022e4-e89d-4c3a-a744-e9194320fbd7",
   "metadata": {},
   "outputs": [
    {
     "data": {
      "text/plain": [
       "array([[2., 9., 2., 2., 1., 3.],\n",
       "       [9., 5., 2., 6., 4., 7.]])"
      ]
     },
     "execution_count": 23,
     "metadata": {},
     "output_type": "execute_result"
    }
   ],
   "source": [
    "a"
   ]
  },
  {
   "cell_type": "code",
   "execution_count": 24,
   "id": "5d21c95e-b375-460d-a4a6-1b4b7faba22b",
   "metadata": {},
   "outputs": [
    {
     "data": {
      "text/plain": [
       "array([[2., 9., 2., 2.],\n",
       "       [1., 3., 9., 5.],\n",
       "       [2., 6., 4., 7.]])"
      ]
     },
     "execution_count": 24,
     "metadata": {},
     "output_type": "execute_result"
    }
   ],
   "source": [
    "a.reshape(3,-1)"
   ]
  },
  {
   "cell_type": "code",
   "execution_count": 28,
   "id": "6a58eee3-0316-4dd9-9213-5f4633aa40a7",
   "metadata": {},
   "outputs": [
    {
     "data": {
      "text/plain": [
       "array([[2., 9.],\n",
       "       [9., 5.],\n",
       "       [2., 2.],\n",
       "       [2., 6.],\n",
       "       [1., 4.],\n",
       "       [3., 7.]])"
      ]
     },
     "execution_count": 28,
     "metadata": {},
     "output_type": "execute_result"
    }
   ],
   "source": [
    "from numpy import newaxis\n",
    "np.column_stack((a))"
   ]
  },
  {
   "cell_type": "code",
   "execution_count": 29,
   "id": "534dd106-5b17-4692-8845-68201950896b",
   "metadata": {},
   "outputs": [],
   "source": [
    "a=np.array([4.,2.])\n",
    "b=np.array([3.,8.])"
   ]
  },
  {
   "cell_type": "code",
   "execution_count": 30,
   "id": "eeecd979-236c-43f4-af96-f2970bbeb37b",
   "metadata": {},
   "outputs": [
    {
     "data": {
      "text/plain": [
       "array([4., 2., 3., 8.])"
      ]
     },
     "execution_count": 30,
     "metadata": {},
     "output_type": "execute_result"
    }
   ],
   "source": [
    "np.hstack((a,b))"
   ]
  },
  {
   "cell_type": "code",
   "execution_count": 31,
   "id": "8ec61339-9c2a-45ca-801f-73c2a471afcf",
   "metadata": {},
   "outputs": [
    {
     "data": {
      "text/plain": [
       "array([[4., 3.],\n",
       "       [2., 8.]])"
      ]
     },
     "execution_count": 31,
     "metadata": {},
     "output_type": "execute_result"
    }
   ],
   "source": [
    "np.column_stack((a,b))"
   ]
  },
  {
   "cell_type": "code",
   "execution_count": 32,
   "id": "ff3ff1d1-201c-49b6-8635-387bcc8a823f",
   "metadata": {},
   "outputs": [
    {
     "data": {
      "text/plain": [
       "array([[4.],\n",
       "       [2.]])"
      ]
     },
     "execution_count": 32,
     "metadata": {},
     "output_type": "execute_result"
    }
   ],
   "source": [
    "a[:,newaxis]"
   ]
  },
  {
   "cell_type": "code",
   "execution_count": 33,
   "id": "014440f1-271e-494f-bcf9-c400e59f862f",
   "metadata": {},
   "outputs": [
    {
     "data": {
      "text/plain": [
       "array([[4., 3.],\n",
       "       [2., 8.]])"
      ]
     },
     "execution_count": 33,
     "metadata": {},
     "output_type": "execute_result"
    }
   ],
   "source": [
    "np.column_stack((a[:,newaxis],b[:,newaxis]))"
   ]
  },
  {
   "cell_type": "code",
   "execution_count": 34,
   "id": "d56a5153-e7ce-4ba1-a9a1-6e9f0da660eb",
   "metadata": {},
   "outputs": [
    {
     "data": {
      "text/plain": [
       "array([[4., 3.],\n",
       "       [2., 8.]])"
      ]
     },
     "execution_count": 34,
     "metadata": {},
     "output_type": "execute_result"
    }
   ],
   "source": [
    "np.hstack((a[:,newaxis],b[:,newaxis]))"
   ]
  },
  {
   "cell_type": "code",
   "execution_count": 41,
   "id": "5aff0568-7056-4b5b-bb8b-9ded9d54a287",
   "metadata": {},
   "outputs": [
    {
     "data": {
      "text/plain": [
       "array([4, 9, 3, 8, 2, 0, 5, 7, 1, 6])"
      ]
     },
     "execution_count": 41,
     "metadata": {},
     "output_type": "execute_result"
    }
   ],
   "source": [
    "a=np.arange(10)\n",
    "np.random.choice(a,10,replace=False,p=None)"
   ]
  },
  {
   "cell_type": "code",
   "execution_count": 135,
   "id": "3ab635ba-16da-4eff-aba3-0d59b5f594b0",
   "metadata": {},
   "outputs": [
    {
     "data": {
      "text/plain": [
       "array([1, 1, 0], dtype=int32)"
      ]
     },
     "execution_count": 135,
     "metadata": {},
     "output_type": "execute_result"
    }
   ],
   "source": [
    "np.random.choice(5,size=3)"
   ]
  },
  {
   "cell_type": "code",
   "execution_count": 124,
   "id": "517a06c4-e0c9-427a-b6c4-c27f90348127",
   "metadata": {},
   "outputs": [
    {
     "data": {
      "text/plain": [
       "array([4, 1, 0], dtype=int32)"
      ]
     },
     "execution_count": 124,
     "metadata": {},
     "output_type": "execute_result"
    }
   ],
   "source": [
    "np.random.choice(5,size=3,replace=False)"
   ]
  },
  {
   "cell_type": "code",
   "execution_count": 161,
   "id": "bead65f6-b68c-414d-9573-f8978da03ded",
   "metadata": {},
   "outputs": [
    {
     "data": {
      "text/plain": [
       "array(['banana', 'cherry'], dtype='<U6')"
      ]
     },
     "execution_count": 161,
     "metadata": {},
     "output_type": "execute_result"
    }
   ],
   "source": [
    "arr=['apple','banana','cherry']\n",
    "np.random.choice(arr,size=2)"
   ]
  },
  {
   "cell_type": "code",
   "execution_count": 184,
   "id": "58fcd00b-aa2c-43cf-abae-acc99e15c6bf",
   "metadata": {},
   "outputs": [
    {
     "data": {
      "text/plain": [
       "array([1, 1, 2, 1, 1])"
      ]
     },
     "execution_count": 184,
     "metadata": {},
     "output_type": "execute_result"
    }
   ],
   "source": [
    "np.random.choice([1,2,3],size=5,p=[0.7,0.2,0.1])"
   ]
  },
  {
   "cell_type": "code",
   "execution_count": 186,
   "id": "014b3283-f92e-4c45-a838-e7c2f8dc7973",
   "metadata": {},
   "outputs": [
    {
     "data": {
      "text/plain": [
       "array([[0, 0, 0],\n",
       "       [0, 0, 0]])"
      ]
     },
     "execution_count": 186,
     "metadata": {},
     "output_type": "execute_result"
    }
   ],
   "source": [
    "np.zeros((2,3),dtype=int)"
   ]
  },
  {
   "cell_type": "code",
   "execution_count": 191,
   "id": "4536390a-d6d7-4773-b02c-ad1cc11dd4bd",
   "metadata": {},
   "outputs": [
    {
     "data": {
      "text/plain": [
       "array([1, 1, 1, 1, 1])"
      ]
     },
     "execution_count": 191,
     "metadata": {},
     "output_type": "execute_result"
    }
   ],
   "source": [
    "np.ones(5, dtype=int)"
   ]
  },
  {
   "cell_type": "code",
   "execution_count": 194,
   "id": "b9139e6a-d6e1-486d-8c72-ab30ec965b00",
   "metadata": {},
   "outputs": [
    {
     "data": {
      "text/plain": [
       "array([[1.+0.j, 1.+0.j, 1.+0.j],\n",
       "       [1.+0.j, 1.+0.j, 1.+0.j]])"
      ]
     },
     "execution_count": 194,
     "metadata": {},
     "output_type": "execute_result"
    }
   ],
   "source": [
    "np.ones((2,3),dtype=complex,order='F')"
   ]
  },
  {
   "cell_type": "code",
   "execution_count": 195,
   "id": "96d155ec-c3f1-42dc-b4b3-87d7bb8a2cbc",
   "metadata": {},
   "outputs": [
    {
     "data": {
      "text/plain": [
       "array([7, 7, 7, 7, 7])"
      ]
     },
     "execution_count": 195,
     "metadata": {},
     "output_type": "execute_result"
    }
   ],
   "source": [
    "np.full(5,7)"
   ]
  },
  {
   "cell_type": "code",
   "execution_count": 197,
   "id": "539e9447-8985-4478-8d38-6649b6ce618c",
   "metadata": {},
   "outputs": [
    {
     "data": {
      "text/plain": [
       "array([[7, 7, 7],\n",
       "       [7, 7, 7]])"
      ]
     },
     "execution_count": 197,
     "metadata": {},
     "output_type": "execute_result"
    }
   ],
   "source": [
    "np.full((2,3),7)"
   ]
  },
  {
   "cell_type": "code",
   "execution_count": 200,
   "id": "16c7b792-814e-4944-9365-4a1c480ca75c",
   "metadata": {},
   "outputs": [
    {
     "data": {
      "text/plain": [
       "array([[3.5, 3.5],\n",
       "       [3.5, 3.5]])"
      ]
     },
     "execution_count": 200,
     "metadata": {},
     "output_type": "execute_result"
    }
   ],
   "source": [
    "np.full((2,2),3.5,dtype=float)"
   ]
  },
  {
   "cell_type": "code",
   "execution_count": 201,
   "id": "ab2ff04d-7666-4c3b-8685-5010f1516918",
   "metadata": {},
   "outputs": [
    {
     "data": {
      "text/plain": [
       "array([5, 5, 5])"
      ]
     },
     "execution_count": 201,
     "metadata": {},
     "output_type": "execute_result"
    }
   ],
   "source": [
    "arr=np.array([10,15,20,25])\n",
    "np.diff(arr)"
   ]
  },
  {
   "cell_type": "code",
   "execution_count": 203,
   "id": "25c0f849-cc1d-433f-b0c5-d3e419cdcea8",
   "metadata": {},
   "outputs": [
    {
     "data": {
      "text/plain": [
       "array([[2, 3],\n",
       "       [3, 4]])"
      ]
     },
     "execution_count": 203,
     "metadata": {},
     "output_type": "execute_result"
    }
   ],
   "source": [
    "arr=np.array([[1,3,6],[2,5,9]])\n",
    "np.diff(arr,axis=1)"
   ]
  },
  {
   "cell_type": "code",
   "execution_count": 208,
   "id": "16809ecb-4ac1-44bf-b735-36b6fc3493cb",
   "metadata": {},
   "outputs": [
    {
     "data": {
      "text/plain": [
       "array([1, 3, 5, 7])"
      ]
     },
     "execution_count": 208,
     "metadata": {},
     "output_type": "execute_result"
    }
   ],
   "source": [
    "arr=np.array([0,1,4,9,16])\n",
    "np.diff(arr,n=1)\n",
    "# first diff [1,3,5,7]\n",
    "# second diff [2,2,2]\n",
    "# third diff [0,0]\n",
    "# fourth diff [0]"
   ]
  },
  {
   "cell_type": "code",
   "execution_count": 211,
   "id": "5f485fbb-c10f-44ef-82b5-892f5b4aaf8d",
   "metadata": {},
   "outputs": [
    {
     "name": "stdout",
     "output_type": "stream",
     "text": [
      "False\n"
     ]
    }
   ],
   "source": [
    "a=np.array([1.0,3.0,2.0])\n",
    "b=np.array([1.0,2.0000001,2.9999])\n",
    "print(np.allclose(a,b))"
   ]
  },
  {
   "cell_type": "code",
   "execution_count": 213,
   "id": "b52f0b02-2b9b-4a2f-85cd-36ac9976d642",
   "metadata": {},
   "outputs": [
    {
     "name": "stdout",
     "output_type": "stream",
     "text": [
      "[1 1 2 2 3 3]\n"
     ]
    }
   ],
   "source": [
    "arr=np.array([1,2,3])\n",
    "print(np.repeat(arr,2))"
   ]
  },
  {
   "cell_type": "code",
   "execution_count": 214,
   "id": "498eb20b-f77a-4af9-8e4a-616f324b5a28",
   "metadata": {},
   "outputs": [
    {
     "data": {
      "text/plain": [
       "array([10, 20, 20, 30, 30, 30])"
      ]
     },
     "execution_count": 214,
     "metadata": {},
     "output_type": "execute_result"
    }
   ],
   "source": [
    "np.repeat([10,20,30],[1,2,3])"
   ]
  },
  {
   "cell_type": "code",
   "execution_count": 215,
   "id": "dc0034f2-b227-4b67-9f4e-ead80de51908",
   "metadata": {},
   "outputs": [
    {
     "name": "stdout",
     "output_type": "stream",
     "text": [
      "[1 1 2 2 3 3 4 4]\n"
     ]
    }
   ],
   "source": [
    "arr=np.array([[1,2],[3,4]])\n",
    "print(np.repeat(arr,2))"
   ]
  },
  {
   "cell_type": "code",
   "execution_count": 217,
   "id": "4d94e497-8000-40a8-b8f1-0c393e351cef",
   "metadata": {},
   "outputs": [
    {
     "name": "stdout",
     "output_type": "stream",
     "text": [
      "[[1 2]\n",
      " [1 2]\n",
      " [3 4]\n",
      " [3 4]]\n"
     ]
    }
   ],
   "source": [
    "print(np.repeat(arr,2,axis=0))"
   ]
  },
  {
   "cell_type": "code",
   "execution_count": 218,
   "id": "feee4870-269e-45b7-b3be-b0fa39efc77e",
   "metadata": {},
   "outputs": [
    {
     "name": "stdout",
     "output_type": "stream",
     "text": [
      "[[1 1 2 2]\n",
      " [3 3 4 4]]\n"
     ]
    }
   ],
   "source": [
    "print(np.repeat(arr,2,axis=1))"
   ]
  },
  {
   "cell_type": "code",
   "execution_count": 221,
   "id": "614b2dd7-4796-453f-b2eb-e08cd8dca01f",
   "metadata": {},
   "outputs": [
    {
     "name": "stdout",
     "output_type": "stream",
     "text": [
      "[0 0 1 1 1]\n"
     ]
    }
   ],
   "source": [
    "arr=np.array([10,20,30,40,50])\n",
    "idx=np.where(arr>20,1,0)\n",
    "print(idx)"
   ]
  },
  {
   "cell_type": "code",
   "execution_count": 222,
   "id": "8444b389-f6fa-4229-9c69-550fe193a0a7",
   "metadata": {},
   "outputs": [
    {
     "name": "stdout",
     "output_type": "stream",
     "text": [
      "[['odd' 'even' 'odd']\n",
      " ['even' 'odd' 'even']]\n"
     ]
    }
   ],
   "source": [
    "arr=np.array([[1,2,3],[4,5,6]])\n",
    "print(np.where(arr%2==0,\"even\",\"odd\"))"
   ]
  },
  {
   "cell_type": "code",
   "execution_count": 223,
   "id": "75fb1df9-342f-40dc-a8d9-e3da59c2d529",
   "metadata": {},
   "outputs": [
    {
     "name": "stdout",
     "output_type": "stream",
     "text": [
      "[15 20]\n"
     ]
    }
   ],
   "source": [
    "arr=np.array([5,10,15,20])\n",
    "val=arr[np.where(arr>10)]\n",
    "print(val)"
   ]
  },
  {
   "cell_type": "code",
   "execution_count": 225,
   "id": "2fa0d08b-88d3-45e0-a07c-b7be19479fc3",
   "metadata": {},
   "outputs": [
    {
     "name": "stdout",
     "output_type": "stream",
     "text": [
      "[[1 2 3]\n",
      " [4 5 6]]\n"
     ]
    }
   ],
   "source": [
    "a=np.array([1,2,3])\n",
    "b=np.array([4,5,6])\n",
    "print(np.vstack((a,b)))"
   ]
  },
  {
   "cell_type": "code",
   "execution_count": 226,
   "id": "2df6d791-13f0-4465-be05-3d92bd494ce8",
   "metadata": {},
   "outputs": [
    {
     "name": "stdout",
     "output_type": "stream",
     "text": [
      "[1 2 3 4 5 6]\n"
     ]
    }
   ],
   "source": [
    "print(np.hstack((a,b)))"
   ]
  },
  {
   "cell_type": "code",
   "execution_count": 227,
   "id": "ad46a848-e354-4e43-9a0b-6c58226697e4",
   "metadata": {},
   "outputs": [
    {
     "data": {
      "text/plain": [
       "array([10, 20])"
      ]
     },
     "execution_count": 227,
     "metadata": {},
     "output_type": "execute_result"
    }
   ],
   "source": [
    "arr[arr%2==0]"
   ]
  },
  {
   "cell_type": "code",
   "execution_count": 1,
   "id": "c2d18a6c-c6ab-48fd-b031-1b0ac60d4f10",
   "metadata": {},
   "outputs": [],
   "source": [
    "import numpy as np"
   ]
  },
  {
   "cell_type": "code",
   "execution_count": 3,
   "id": "7433a608-a78f-4857-83f5-164c5d0c2c91",
   "metadata": {},
   "outputs": [
    {
     "name": "stdout",
     "output_type": "stream",
     "text": [
      "[1 2 3]\n",
      "[2 3 4]\n"
     ]
    }
   ],
   "source": [
    "arr1=np.array([1,2,3])\n",
    "print(arr1)\n",
    "arr2=np.array([2,3,4])\n",
    "print(arr2)"
   ]
  },
  {
   "cell_type": "code",
   "execution_count": 4,
   "id": "bc67ac21-2edd-4ce6-b750-31470e0c44b0",
   "metadata": {},
   "outputs": [
    {
     "data": {
      "text/plain": [
       "array([3, 5, 7])"
      ]
     },
     "execution_count": 4,
     "metadata": {},
     "output_type": "execute_result"
    }
   ],
   "source": [
    "arr1 + arr2"
   ]
  },
  {
   "cell_type": "code",
   "execution_count": 5,
   "id": "7120c812-1404-470f-a03f-a432e240b7e6",
   "metadata": {},
   "outputs": [
    {
     "data": {
      "text/plain": [
       "array([5, 6, 7])"
      ]
     },
     "execution_count": 5,
     "metadata": {},
     "output_type": "execute_result"
    }
   ],
   "source": [
    "arr1 + 4"
   ]
  },
  {
   "cell_type": "code",
   "execution_count": 6,
   "id": "f6aed86f-29bb-4cee-b9a9-a6e687e0a65d",
   "metadata": {},
   "outputs": [
    {
     "name": "stdout",
     "output_type": "stream",
     "text": [
      "[1 2 3]\n",
      "[[2]\n",
      " [4]\n",
      " [6]]\n"
     ]
    }
   ],
   "source": [
    "arr1=np.array([1,2,3])\n",
    "print(arr1)\n",
    "arr2=np.array([[2],[4],[6]])\n",
    "print(arr2)"
   ]
  },
  {
   "cell_type": "code",
   "execution_count": 7,
   "id": "4a7bce3a-9986-42d9-ba1d-85873e073838",
   "metadata": {},
   "outputs": [
    {
     "data": {
      "text/plain": [
       "array([[3, 4, 5],\n",
       "       [5, 6, 7],\n",
       "       [7, 8, 9]])"
      ]
     },
     "execution_count": 7,
     "metadata": {},
     "output_type": "execute_result"
    }
   ],
   "source": [
    "arr1 + arr2"
   ]
  },
  {
   "cell_type": "code",
   "execution_count": 8,
   "id": "8301d775-86f6-4cae-b3f7-01fbff77431f",
   "metadata": {},
   "outputs": [],
   "source": [
    "arr1=np.array([1,2,3])\n",
    "arr2=np.array([4,5,6,7])"
   ]
  },
  {
   "cell_type": "code",
   "execution_count": 9,
   "id": "eb07874e-02d4-40c9-9814-7c78b46d2705",
   "metadata": {},
   "outputs": [
    {
     "ename": "ValueError",
     "evalue": "operands could not be broadcast together with shapes (3,) (4,) ",
     "output_type": "error",
     "traceback": [
      "\u001b[31m---------------------------------------------------------------------------\u001b[39m",
      "\u001b[31mValueError\u001b[39m                                Traceback (most recent call last)",
      "\u001b[36mCell\u001b[39m\u001b[36m \u001b[39m\u001b[32mIn[9]\u001b[39m\u001b[32m, line 1\u001b[39m\n\u001b[32m----> \u001b[39m\u001b[32m1\u001b[39m \u001b[43marr1\u001b[49m\u001b[43m \u001b[49m\u001b[43m+\u001b[49m\u001b[43m \u001b[49m\u001b[43marr2\u001b[49m\n",
      "\u001b[31mValueError\u001b[39m: operands could not be broadcast together with shapes (3,) (4,) "
     ]
    }
   ],
   "source": [
    "arr1 + arr2"
   ]
  },
  {
   "cell_type": "code",
   "execution_count": 11,
   "id": "12d561c6-579c-4f2c-92b7-1fd443ff8962",
   "metadata": {},
   "outputs": [
    {
     "name": "stdout",
     "output_type": "stream",
     "text": [
      "2\n",
      "1\n"
     ]
    },
    {
     "data": {
      "text/plain": [
       "array([[3, 4, 5],\n",
       "       [6, 7, 8]])"
      ]
     },
     "execution_count": 11,
     "metadata": {},
     "output_type": "execute_result"
    }
   ],
   "source": [
    "arr1=np.array([[1,2,3],[4,5,6]])\n",
    "print(arr1.ndim)\n",
    "arr2=np.array([2,2,2])\n",
    "print(arr2.ndim)\n",
    "arr1+arr2"
   ]
  },
  {
   "cell_type": "code",
   "execution_count": 12,
   "id": "a981d353-2cb3-45b6-a844-521eb84b9ee2",
   "metadata": {},
   "outputs": [
    {
     "ename": "ValueError",
     "evalue": "operands could not be broadcast together with shapes (3,2) (3,) ",
     "output_type": "error",
     "traceback": [
      "\u001b[31m---------------------------------------------------------------------------\u001b[39m",
      "\u001b[31mValueError\u001b[39m                                Traceback (most recent call last)",
      "\u001b[36mCell\u001b[39m\u001b[36m \u001b[39m\u001b[32mIn[12]\u001b[39m\u001b[32m, line 3\u001b[39m\n\u001b[32m      1\u001b[39m arr1=np.array([[\u001b[32m1\u001b[39m,\u001b[32m2\u001b[39m],[\u001b[32m3\u001b[39m,\u001b[32m4\u001b[39m],[\u001b[32m5\u001b[39m,\u001b[32m6\u001b[39m]])\n\u001b[32m      2\u001b[39m arr2=np.array([\u001b[32m2\u001b[39m,\u001b[32m2\u001b[39m,\u001b[32m2\u001b[39m])\n\u001b[32m----> \u001b[39m\u001b[32m3\u001b[39m \u001b[43marr1\u001b[49m\u001b[43m+\u001b[49m\u001b[43marr2\u001b[49m\n",
      "\u001b[31mValueError\u001b[39m: operands could not be broadcast together with shapes (3,2) (3,) "
     ]
    }
   ],
   "source": [
    "arr1=np.array([[1,2],[3,4],[5,6]])\n",
    "arr2=np.array([2,2,2])\n",
    "arr1+arr2"
   ]
  },
  {
   "cell_type": "code",
   "execution_count": 17,
   "id": "0adf44a7-2513-4b3f-9874-e05d8e90e494",
   "metadata": {},
   "outputs": [],
   "source": [
    "import numpy as np\n",
    "from numpy.random import Generator as gen\n",
    "from numpy.random import PCG64 as pcg"
   ]
  },
  {
   "cell_type": "code",
   "execution_count": 25,
   "id": "1249fa06-0bf5-4f80-8f12-8ffe8b4ae3d5",
   "metadata": {},
   "outputs": [
    {
     "data": {
      "text/plain": [
       "array([[-0.7901525 , -2.03462548,  0.60330175,  0.74429453, -0.3096868 ],\n",
       "       [ 0.36732137,  1.71039429,  1.06079784,  0.70763902,  0.68774939],\n",
       "       [-0.86356745,  0.96401673, -1.64846282, -0.33209181, -0.43729384],\n",
       "       [-1.72851871, -0.11033889,  1.64345508, -0.34012734, -1.20760334],\n",
       "       [-0.09105372,  0.85392432,  0.19321812, -0.00266572, -1.40922226]])"
      ]
     },
     "execution_count": 25,
     "metadata": {},
     "output_type": "execute_result"
    }
   ],
   "source": [
    "arr_rg = gen(pcg(seed=101))\n",
    "arr_rg.normal(size=(5,5))"
   ]
  },
  {
   "cell_type": "raw",
   "id": "42f4bab4-4038-4d71-80b0-005b3fbc6a43",
   "metadata": {},
   "source": [
    "arr_rg"
   ]
  },
  {
   "cell_type": "code",
   "execution_count": 20,
   "id": "3b87e36c-fd55-4c80-bc61-18d4e0ab2260",
   "metadata": {},
   "outputs": [
    {
     "data": {
      "text/plain": [
       "Generator(PCG64) at 0x1FEA013D540"
      ]
     },
     "execution_count": 20,
     "metadata": {},
     "output_type": "execute_result"
    }
   ],
   "source": [
    "arr_rg"
   ]
  },
  {
   "cell_type": "code",
   "execution_count": 26,
   "id": "ef77bcc2-f280-4770-9811-ce911f485ce6",
   "metadata": {},
   "outputs": [
    {
     "data": {
      "text/plain": [
       "array([[13, 68, 31, 69, 40],\n",
       "       [12, 58, 26, 90, 61],\n",
       "       [49, 59, 52, 57, 52],\n",
       "       [43, 73, 15, 70, 43],\n",
       "       [50, 42, 72, 31, 66]])"
      ]
     },
     "execution_count": 26,
     "metadata": {},
     "output_type": "execute_result"
    }
   ],
   "source": [
    "arr_rg=gen(pcg(seed=200))\n",
    "arr_rg.integers(low=10, high=100, size=(5,5))"
   ]
  },
  {
   "cell_type": "raw",
   "id": "eea20eba-0e05-42ce-8de5-6f867ea3c3f0",
   "metadata": {},
   "source": [
    "import numpy as np"
   ]
  },
  {
   "cell_type": "code",
   "execution_count": 1,
   "id": "ebc890e3-f8a4-4007-96d5-60bc7b57b752",
   "metadata": {},
   "outputs": [],
   "source": [
    "import numpy as np"
   ]
  },
  {
   "cell_type": "code",
   "execution_count": 2,
   "id": "c284dc7a-f278-4b22-9f3a-795c0fe628aa",
   "metadata": {},
   "outputs": [
    {
     "data": {
      "text/plain": [
       "array([5, 7, 9])"
      ]
     },
     "execution_count": 2,
     "metadata": {},
     "output_type": "execute_result"
    }
   ],
   "source": [
    "arr1=np.array([1,2,3])\n",
    "arr2=np.array([4,5,6])\n",
    "arr1+arr2"
   ]
  },
  {
   "cell_type": "code",
   "execution_count": 3,
   "id": "aaba66a9-b832-4de8-acaa-5faf2ee3d5bb",
   "metadata": {},
   "outputs": [
    {
     "data": {
      "text/plain": [
       "[1, 2, 3, 4, 5, 6]"
      ]
     },
     "execution_count": 3,
     "metadata": {},
     "output_type": "execute_result"
    }
   ],
   "source": [
    "arr=[1,2,3]\n",
    "ar=[4,5,6]\n",
    "arr+ar"
   ]
  }
 ],
 "metadata": {
  "kernelspec": {
   "display_name": "Python 3 (ipykernel)",
   "language": "python",
   "name": "python3"
  },
  "language_info": {
   "codemirror_mode": {
    "name": "ipython",
    "version": 3
   },
   "file_extension": ".py",
   "mimetype": "text/x-python",
   "name": "python",
   "nbconvert_exporter": "python",
   "pygments_lexer": "ipython3",
   "version": "3.12.7"
  }
 },
 "nbformat": 4,
 "nbformat_minor": 5
}
